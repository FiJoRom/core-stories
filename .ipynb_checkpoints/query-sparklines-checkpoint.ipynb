{
 "cells": [
  {
   "cell_type": "code",
   "execution_count": 1,
   "metadata": {
    "collapsed": false
   },
   "outputs": [],
   "source": [
    "from os import listdir\n",
    "from os.path import isfile, join\n",
    "from json import loads\n",
    "from re import findall,UNICODE\n",
    "import sys\n",
    "sys.path.append(\"/Users/andyreagan/tools/python\")\n",
    "from kitchentable.dogtoys import *\n",
    "from labMTsimple.labMTsimple.speedy import LabMT\n",
    "my_LabMT = LabMT()\n",
    "from labMTsimple.labMTsimple.storyLab import *\n",
    "import numpy as np\n",
    "from database.bookclass import Book_raw_data\n",
    "import pickle\n",
    "\n",
    "import os\n",
    "sys.path.append('/Users/andyreagan/projects/2014/09-books/database')\n",
    "os.environ.setdefault('DJANGO_SETTINGS_MODULE','gutenbergdb.settings')\n",
    "import django\n",
    "django.setup()\n",
    "\n",
    "from library.models import *\n",
    "\n",
    "from tqdm import tqdm"
   ]
  },
  {
   "cell_type": "code",
   "execution_count": 2,
   "metadata": {
    "collapsed": false
   },
   "outputs": [],
   "source": [
    "import matplotlib.pyplot as plt\n",
    "%matplotlib inline"
   ]
  },
  {
   "cell_type": "code",
   "execution_count": null,
   "metadata": {
    "collapsed": false
   },
   "outputs": [],
   "source": []
  },
  {
   "cell_type": "code",
   "execution_count": 6,
   "metadata": {
    "collapsed": false
   },
   "outputs": [
    {
     "name": "stdout",
     "output_type": "stream",
     "text": [
      "4803\n"
     ]
    }
   ],
   "source": [
    "q = Book.objects.filter(exclude=False,length__gt=10000,length__lte=200000,\n",
    "                        downloads__gte=150,numUniqWords__gt=1000,numUniqWords__lt=18000,lang_code_id=0)\n",
    "q = Book.objects.filter(exclude=False,length__gt=20000,length__lte=100000,\n",
    "                        downloads__gte=10,lang_code_id=0,locc_with_P=True)\n",
    "print(len(q))"
   ]
  },
  {
   "cell_type": "code",
   "execution_count": 7,
   "metadata": {
    "collapsed": false
   },
   "outputs": [
    {
     "name": "stderr",
     "output_type": "stream",
     "text": [
      "100%|██████████| 4803/4803 [2:10:13<00:00,  1.70s/it]"
     ]
    },
    {
     "name": "stdout",
     "output_type": "stream",
     "text": [
      "(4803, 200)\n"
     ]
    },
    {
     "name": "stderr",
     "output_type": "stream",
     "text": [
      "\n"
     ]
    }
   ],
   "source": [
    "use_cache = True\n",
    "version = \"P-20K-100K-10\"\n",
    "if isfile(\"data/gutenberg/timeseries-matrix-cache-{}.p\".format(version)) and use_cache:\n",
    "    big_matrix = pickle.load(open(\"data/gutenberg/timeseries-matrix-cache-{}.p\".format(version),\"rb\"))\n",
    "else:\n",
    "    # load all of the timeseries into a matrix\n",
    "    big_matrix = np.ones([len(q),200])\n",
    "    # big_matrix_mean0 = np.ones(big_matrix.shape)\n",
    "    stop_val = 1.0    \n",
    "    for i in tqdm(range(len(q))):\n",
    "        b = q[i]\n",
    "        b_data = Book_raw_data(b)\n",
    "        a = b_data.chopper_sliding(my_LabMT,num_points=200,stop_val=stop_val)\n",
    "        big_matrix[i,:] = b_data.timeseries\n",
    "    print(big_matrix.shape)\n",
    "    pickle.dump(big_matrix,open(\"data/gutenberg/timeseries-matrix-cache-{}.p\".format(version),\"wb\"),pickle.HIGHEST_PROTOCOL)"
   ]
  },
  {
   "cell_type": "code",
   "execution_count": 8,
   "metadata": {
    "collapsed": false
   },
   "outputs": [],
   "source": [
    "assert len(q) == big_matrix.shape[0]"
   ]
  },
  {
   "cell_type": "code",
   "execution_count": 16,
   "metadata": {
    "collapsed": false
   },
   "outputs": [
    {
     "name": "stderr",
     "output_type": "stream",
     "text": [
      "100%|██████████| 4803/4803 [24:41<00:00,  3.07it/s]\n"
     ]
    }
   ],
   "source": [
    "for i in tqdm(range(len(q))):\n",
    "    b = q[i]\n",
    "    fig = plt.figure(figsize=(1.5,.55))\n",
    "    ax = fig.add_axes([0,0,1,1])\n",
    "    ax.plot(np.arange(0,100,0.5),big_matrix[i,:],color=\".8\",linewidth=2)\n",
    "    ax.plot(np.arange(0,100,0.5),big_matrix[i,:],color=\".05\",linewidth=.35)\n",
    "    ax.axis(\"off\")\n",
    "    plt.savefig(\"media/figures/all-timeseries/{0}.pdf\".format(b.gutenberg_id))\n",
    "    call(\"pdfcrop media/figures/all-timeseries/{0}.pdf\".format(b.gutenberg_id),shell=True)\n",
    "    call(\"mv media/figures/all-timeseries/{0}{{-crop,}}.pdf\".format(b.gutenberg_id),shell=True)\n",
    "    plt.close(fig)"
   ]
  },
  {
   "cell_type": "code",
   "execution_count": null,
   "metadata": {
    "collapsed": true
   },
   "outputs": [],
   "source": []
  }
 ],
 "metadata": {
  "kernelspec": {
   "display_name": "Python 3",
   "language": "python",
   "name": "python3"
  },
  "language_info": {
   "codemirror_mode": {
    "name": "ipython",
    "version": 3
   },
   "file_extension": ".py",
   "mimetype": "text/x-python",
   "name": "python",
   "nbconvert_exporter": "python",
   "pygments_lexer": "ipython3",
   "version": "3.5.0"
  }
 },
 "nbformat": 4,
 "nbformat_minor": 0
}
