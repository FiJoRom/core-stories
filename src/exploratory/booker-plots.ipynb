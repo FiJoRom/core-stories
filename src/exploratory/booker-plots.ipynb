{
 "cells": [
  {
   "cell_type": "code",
   "execution_count": 1,
   "metadata": {
    "collapsed": false
   },
   "outputs": [
    {
     "name": "stdout",
     "output_type": "stream",
     "text": [
      "loading LabMT with stopVal=0.0, for 10222 words\n"
     ]
    }
   ],
   "source": [
    "from os import listdir\n",
    "from os.path import isfile, join\n",
    "import sys\n",
    "sys.path.append(\"/Users/andyreagan/tools/python\")\n",
    "from kitchentable.dogtoys import *\n",
    "from json import loads\n",
    "from re import findall,UNICODE\n",
    "from labMTsimple.labMTsimple.speedy import LabMT\n",
    "my_LabMT = LabMT()\n",
    "from labMTsimple.labMTsimple.storyLab import *\n",
    "import numpy as np\n",
    "from database.bookclass import Book_raw_data\n",
    "import pickle\n",
    "\n",
    "import os\n",
    "sys.path.append('/Users/andyreagan/projects/2014/09-books/database')\n",
    "os.environ.setdefault('DJANGO_SETTINGS_MODULE','gutenbergdb.settings')\n",
    "import django\n",
    "django.setup()\n",
    "\n",
    "from library.models import *\n",
    "\n",
    "from datetime import datetime\n",
    "\n",
    "use_cache = True"
   ]
  },
  {
   "cell_type": "code",
   "execution_count": 2,
   "metadata": {
    "collapsed": true
   },
   "outputs": [],
   "source": [
    "# all our essentials\n",
    "from matplotlib import rc,rcParams\n",
    "# rc('font', family='sans-serif') \n",
    "# rc('font', serif='Helvetica Neue')\n",
    "# rc('text', usetex='false') \n",
    "\n",
    "rc('font', family='serif')\n",
    "rc('font', family='cmr10')\n",
    "rc('text', usetex='false') \n",
    "\n",
    "rcParams.update({'font.size': 12})\n",
    "import matplotlib.pyplot as plt\n",
    "%matplotlib inline"
   ]
  },
  {
   "cell_type": "code",
   "execution_count": 3,
   "metadata": {
    "collapsed": true
   },
   "outputs": [],
   "source": [
    "q = Book.objects.filter(exclude=False,\n",
    "                        length__gt=10000,\n",
    "                        length__lte=200000,\n",
    "                        downloads__gte=150,\n",
    "                        numUniqWords__gt=1000,\n",
    "                        numUniqWords__lt=18000,\n",
    "                        lang_code_id=0).order_by(\"gutenberg_id\")"
   ]
  },
  {
   "cell_type": "code",
   "execution_count": 4,
   "metadata": {
    "collapsed": false
   },
   "outputs": [
    {
     "name": "stdout",
     "output_type": "stream",
     "text": [
      "(1751, 200)\n"
     ]
    }
   ],
   "source": [
    "if isfile(\"data/gutenberg/timeseries-matrix-cache.p\") and use_cache:\n",
    "    big_matrix = pickle.load(open(\"data/gutenberg/timeseries-matrix-cache.p\",\"rb\"))\n",
    "else:\n",
    "    # load all of the timeseries into a matrix\n",
    "    big_matrix = np.ones([len(q),200])\n",
    "    # big_matrix_mean0 = np.ones(big_matrix.shape)\n",
    "    stop_val = 1.0\n",
    "    for i,b in enumerate(q):\n",
    "        if i%100 == 0:\n",
    "            print(i)\n",
    "        # print(b.title)\n",
    "        b_data = Book_raw_data(b)\n",
    "        a = b_data.chopper_sliding(my_LabMT,num_points=200,stop_val=stop_val)\n",
    "        big_matrix[i,:] = b_data.timeseries\n",
    "    print(big_matrix.shape)\n",
    "    pickle.dump(big_matrix,open(\"data/gutenberg/timeseries-matrix-cache.p\",\"wb\"),pickle.HIGHEST_PROTOCOL)\n",
    "    \n",
    "big_matrix_mean0 = big_matrix-np.tile(big_matrix.mean(axis=1),(200,1)).transpose()\n",
    "big_matrix_start0 = big_matrix-np.tile(big_matrix[:,0],(200,1)).transpose()\n",
    "print(big_matrix.shape)"
   ]
  },
  {
   "cell_type": "code",
   "execution_count": 5,
   "metadata": {
    "collapsed": true
   },
   "outputs": [],
   "source": [
    "import json"
   ]
  },
  {
   "cell_type": "code",
   "execution_count": 7,
   "metadata": {
    "collapsed": false
   },
   "outputs": [
    {
     "ename": "JSONDecodeError",
     "evalue": "Expecting ',' delimiter: line 2 column 15 (char 40)",
     "output_type": "error",
     "traceback": [
      "\u001b[0;31m---------------------------------------------------------------------------\u001b[0m",
      "\u001b[0;31mJSONDecodeError\u001b[0m                           Traceback (most recent call last)",
      "\u001b[0;32m<ipython-input-7-83fa8ddf16cd>\u001b[0m in \u001b[0;36m<module>\u001b[0;34m()\u001b[0m\n\u001b[0;32m----> 1\u001b[0;31m \u001b[0mjson\u001b[0m\u001b[0;34m.\u001b[0m\u001b[0mload\u001b[0m\u001b[0;34m(\u001b[0m\u001b[0mopen\u001b[0m\u001b[0;34m(\u001b[0m\u001b[0;34m\"booker-data.json\"\u001b[0m\u001b[0;34m,\u001b[0m\u001b[0;34m\"r\"\u001b[0m\u001b[0;34m)\u001b[0m\u001b[0;34m)\u001b[0m\u001b[0;34m\u001b[0m\u001b[0m\n\u001b[0m",
      "\u001b[0;32m/usr/local/Cellar/python3/3.5.0/Frameworks/Python.framework/Versions/3.5/lib/python3.5/json/__init__.py\u001b[0m in \u001b[0;36mload\u001b[0;34m(fp, cls, object_hook, parse_float, parse_int, parse_constant, object_pairs_hook, **kw)\u001b[0m\n\u001b[1;32m    266\u001b[0m         \u001b[0mcls\u001b[0m\u001b[0;34m=\u001b[0m\u001b[0mcls\u001b[0m\u001b[0;34m,\u001b[0m \u001b[0mobject_hook\u001b[0m\u001b[0;34m=\u001b[0m\u001b[0mobject_hook\u001b[0m\u001b[0;34m,\u001b[0m\u001b[0;34m\u001b[0m\u001b[0m\n\u001b[1;32m    267\u001b[0m         \u001b[0mparse_float\u001b[0m\u001b[0;34m=\u001b[0m\u001b[0mparse_float\u001b[0m\u001b[0;34m,\u001b[0m \u001b[0mparse_int\u001b[0m\u001b[0;34m=\u001b[0m\u001b[0mparse_int\u001b[0m\u001b[0;34m,\u001b[0m\u001b[0;34m\u001b[0m\u001b[0m\n\u001b[0;32m--> 268\u001b[0;31m         parse_constant=parse_constant, object_pairs_hook=object_pairs_hook, **kw)\n\u001b[0m\u001b[1;32m    269\u001b[0m \u001b[0;34m\u001b[0m\u001b[0m\n\u001b[1;32m    270\u001b[0m \u001b[0;34m\u001b[0m\u001b[0m\n",
      "\u001b[0;32m/usr/local/Cellar/python3/3.5.0/Frameworks/Python.framework/Versions/3.5/lib/python3.5/json/__init__.py\u001b[0m in \u001b[0;36mloads\u001b[0;34m(s, encoding, cls, object_hook, parse_float, parse_int, parse_constant, object_pairs_hook, **kw)\u001b[0m\n\u001b[1;32m    317\u001b[0m             \u001b[0mparse_int\u001b[0m \u001b[0;32mis\u001b[0m \u001b[0;32mNone\u001b[0m \u001b[0;32mand\u001b[0m \u001b[0mparse_float\u001b[0m \u001b[0;32mis\u001b[0m \u001b[0;32mNone\u001b[0m \u001b[0;32mand\u001b[0m\u001b[0;34m\u001b[0m\u001b[0m\n\u001b[1;32m    318\u001b[0m             parse_constant is None and object_pairs_hook is None and not kw):\n\u001b[0;32m--> 319\u001b[0;31m         \u001b[0;32mreturn\u001b[0m \u001b[0m_default_decoder\u001b[0m\u001b[0;34m.\u001b[0m\u001b[0mdecode\u001b[0m\u001b[0;34m(\u001b[0m\u001b[0ms\u001b[0m\u001b[0;34m)\u001b[0m\u001b[0;34m\u001b[0m\u001b[0m\n\u001b[0m\u001b[1;32m    320\u001b[0m     \u001b[0;32mif\u001b[0m \u001b[0mcls\u001b[0m \u001b[0;32mis\u001b[0m \u001b[0;32mNone\u001b[0m\u001b[0;34m:\u001b[0m\u001b[0;34m\u001b[0m\u001b[0m\n\u001b[1;32m    321\u001b[0m         \u001b[0mcls\u001b[0m \u001b[0;34m=\u001b[0m \u001b[0mJSONDecoder\u001b[0m\u001b[0;34m\u001b[0m\u001b[0m\n",
      "\u001b[0;32m/usr/local/Cellar/python3/3.5.0/Frameworks/Python.framework/Versions/3.5/lib/python3.5/json/decoder.py\u001b[0m in \u001b[0;36mdecode\u001b[0;34m(self, s, _w)\u001b[0m\n\u001b[1;32m    337\u001b[0m \u001b[0;34m\u001b[0m\u001b[0m\n\u001b[1;32m    338\u001b[0m         \"\"\"\n\u001b[0;32m--> 339\u001b[0;31m         \u001b[0mobj\u001b[0m\u001b[0;34m,\u001b[0m \u001b[0mend\u001b[0m \u001b[0;34m=\u001b[0m \u001b[0mself\u001b[0m\u001b[0;34m.\u001b[0m\u001b[0mraw_decode\u001b[0m\u001b[0;34m(\u001b[0m\u001b[0ms\u001b[0m\u001b[0;34m,\u001b[0m \u001b[0midx\u001b[0m\u001b[0;34m=\u001b[0m\u001b[0m_w\u001b[0m\u001b[0;34m(\u001b[0m\u001b[0ms\u001b[0m\u001b[0;34m,\u001b[0m \u001b[0;36m0\u001b[0m\u001b[0;34m)\u001b[0m\u001b[0;34m.\u001b[0m\u001b[0mend\u001b[0m\u001b[0;34m(\u001b[0m\u001b[0;34m)\u001b[0m\u001b[0;34m)\u001b[0m\u001b[0;34m\u001b[0m\u001b[0m\n\u001b[0m\u001b[1;32m    340\u001b[0m         \u001b[0mend\u001b[0m \u001b[0;34m=\u001b[0m \u001b[0m_w\u001b[0m\u001b[0;34m(\u001b[0m\u001b[0ms\u001b[0m\u001b[0;34m,\u001b[0m \u001b[0mend\u001b[0m\u001b[0;34m)\u001b[0m\u001b[0;34m.\u001b[0m\u001b[0mend\u001b[0m\u001b[0;34m(\u001b[0m\u001b[0;34m)\u001b[0m\u001b[0;34m\u001b[0m\u001b[0m\n\u001b[1;32m    341\u001b[0m         \u001b[0;32mif\u001b[0m \u001b[0mend\u001b[0m \u001b[0;34m!=\u001b[0m \u001b[0mlen\u001b[0m\u001b[0;34m(\u001b[0m\u001b[0ms\u001b[0m\u001b[0;34m)\u001b[0m\u001b[0;34m:\u001b[0m\u001b[0;34m\u001b[0m\u001b[0m\n",
      "\u001b[0;32m/usr/local/Cellar/python3/3.5.0/Frameworks/Python.framework/Versions/3.5/lib/python3.5/json/decoder.py\u001b[0m in \u001b[0;36mraw_decode\u001b[0;34m(self, s, idx)\u001b[0m\n\u001b[1;32m    353\u001b[0m         \"\"\"\n\u001b[1;32m    354\u001b[0m         \u001b[0;32mtry\u001b[0m\u001b[0;34m:\u001b[0m\u001b[0;34m\u001b[0m\u001b[0m\n\u001b[0;32m--> 355\u001b[0;31m             \u001b[0mobj\u001b[0m\u001b[0;34m,\u001b[0m \u001b[0mend\u001b[0m \u001b[0;34m=\u001b[0m \u001b[0mself\u001b[0m\u001b[0;34m.\u001b[0m\u001b[0mscan_once\u001b[0m\u001b[0;34m(\u001b[0m\u001b[0ms\u001b[0m\u001b[0;34m,\u001b[0m \u001b[0midx\u001b[0m\u001b[0;34m)\u001b[0m\u001b[0;34m\u001b[0m\u001b[0m\n\u001b[0m\u001b[1;32m    356\u001b[0m         \u001b[0;32mexcept\u001b[0m \u001b[0mStopIteration\u001b[0m \u001b[0;32mas\u001b[0m \u001b[0merr\u001b[0m\u001b[0;34m:\u001b[0m\u001b[0;34m\u001b[0m\u001b[0m\n\u001b[1;32m    357\u001b[0m             \u001b[0;32mraise\u001b[0m \u001b[0mJSONDecodeError\u001b[0m\u001b[0;34m(\u001b[0m\u001b[0;34m\"Expecting value\"\u001b[0m\u001b[0;34m,\u001b[0m \u001b[0ms\u001b[0m\u001b[0;34m,\u001b[0m \u001b[0merr\u001b[0m\u001b[0;34m.\u001b[0m\u001b[0mvalue\u001b[0m\u001b[0;34m)\u001b[0m \u001b[0;32mfrom\u001b[0m \u001b[0;32mNone\u001b[0m\u001b[0;34m\u001b[0m\u001b[0m\n",
      "\u001b[0;31mJSONDecodeError\u001b[0m: Expecting ',' delimiter: line 2 column 15 (char 40)"
     ]
    }
   ],
   "source": [
    "json.load(open(\"booker-data.json\",\"r\"))"
   ]
  },
  {
   "cell_type": "code",
   "execution_count": 11,
   "metadata": {
    "collapsed": false
   },
   "outputs": [],
   "source": [
    "a = {\"The Basic Meta-plot\": {\n",
    "    \"desc\": \"\"\"Most of the meta-plots are variations on the following pattern:\n",
    "Anticipation Stage\n",
    "The call to adventure, and the promise of what is to come.\n",
    "Dream Stage\n",
    "The heroine or hero experiences some initial success - everything seems to be going well, sometimes with a dreamlike sense of invincibility.\n",
    "Frustration Stage\n",
    "First confrontation with the real enemy. Things begin to go wrong.\n",
    "Nightmare Stage\n",
    "At the point of maximum dramatic tension, disaster has erupted and it seems all hope is lost.\n",
    "Resolution\n",
    "The hero or heroine is eventually victorious, and may also be united or reunited with their ‘other half’ (a romantic partner).\n",
    "There are some parallels with Campbell’s Heroic Monomyth, but his pattern is more applicable to mythology than to stories in general.\"\"\",\n",
    "  \"example_titles\": [],},\n",
    " \"Overcoming the Monster (and the Thrilling Escape from Death)\": {\n",
    "     \"desc\": \"\"\"Meta-plot structure:\n",
    "\n",
    "Anticipation Stage (The Call)\n",
    "Dream Stage (Initial Success)                   \n",
    "Frustration Stage (Confrontation)\n",
    "Nightmare Stage (Final Ordeal)\n",
    "Miraculous Escape (Death of the Monster)\"\"\",\n",
    "  \"example_titles\": [\"Perseus\",\"Theseus\",\"Beowulf\",\"Dracula\",\"War of the Worlds\",\"Nicholas Nickleby\",\"The Guns of Navarone\",\"Seven Samurai/The Magnificent Seven\",\"James Bond\",\"Star Wars: A New Hope\",],},\n",
    " \"Rags to Riches\": {\n",
    "     \"desc\": \"\"\"Meta-plot structure:\n",
    "\n",
    "Initial Wretchedness at Home (The Call)\n",
    "Out into the World (Initial Success)\n",
    "The Central Crisis\n",
    "Independence (Final Ordeal)\n",
    "Final Union, Completion and Fulfilment\"\"\",\n",
    "     \"example_titles\": [\"Cinderella\",\"Aladdin\",\"Jane Eyre\",\"Great Expectations\",\"David Copperfield\",],\n",
    "     \"example_titles_dark\": [\"Dark Version: Le Rouge et Le Noir (1831)\",\"What Makes Sammy Run? (1940)\",],},\n",
    " \"The Quest\": {\n",
    "     \"example_titles\": [\"The Odyssey\",\"Pilgrim’s Progress\",\"King Solomon’s Mines\",\"Watership Down\"],\n",
    "     \"desc\": \"\"\"Meta-plot structure:\n",
    "\n",
    "The Call (Oppressed in the City of Destruction)\n",
    "The Journey (Ordeals of the Hero/Heroine & Companions)\n",
    "May include some or all of the following:\n",
    "a. Monsters\n",
    "b. Temptations\n",
    "c. The Deadly Opposites\n",
    "d. The Journey to the Underworld\n",
    "Arrival and Frustration\n",
    "The Final Ordeals\n",
    "The Goal (Kingdom, Other Half or Elixir won)\"\"\",},\n",
    " \"Voyage & Return\": {\n",
    "     \"example_titles\": [\"Alice in Wonderland\",\"Goldilocks and the Three Bears\",\"Orpheus\",\"The Time Machine\",\"Peter Rabbit\",\"Brideshead Revisited\",\"The Rime of the Ancient Mariner\",\"Gone with the Wind\",\"The Third Man (1948)\",],\n",
    "     \"desc\": \"\"\"Meta-plot structure:\n",
    "Anticipation Stage (‘Fall’ into the Other World)\n",
    "Initial Fascination (Dream Stage)\n",
    "Frustration Stage\n",
    "Nightmare Stage\n",
    "Thrilling Escape and Return\"\"\",},\n",
    " \"Comedy\": {\n",
    "     \"example_titles\": [\"Jane Austen\",\"Middlemarch\",\"War and Peace\",\"Gilbert & Sullivan\",\"Oscar Wilde\",],\n",
    "     \"desc\": \"\"\"Comedy is dealt with by a less rigid structure. In essence, the comedy meta-plot is about building an absurdly complex set of problems which then miraculously resolve at the climax. There is much discussion of how the comedy plot has developed over time:\n",
    "    Stage one: Aristophanes\n",
    "    Stage two: ‘The New Comedy’ (comedy becomes a love story)\n",
    "    Stage three: Shakespeare (plot fully developed)\n",
    "    Comedy as real life: Jane Austen\n",
    "    The plot disguised: Middlemarch, War and Peace\n",
    "    The plot burlesqued: Gilbert & Sullivan, Oscar Wilde\n",
    "Meta-plot structure:\n",
    "Under the Shadow\n",
    "A little world in which people are under the shadow of confusion, uncertainty and frustration and are shut up from one another.\n",
    "Tightening the Knot \n",
    "The confusion gets worse until the pressure of darkness is at its most acute and everyone is in a nightmarish tangle.\n",
    "Resolution\n",
    "With the coming to light of things not previously recognised, perceptions are dramatically changed. Shadows are dispelled, the situation is miraculously transformed and the little world is brought together in a state of joyful union.\"\"\",},\n",
    "\"Tragedy\": {\n",
    "    \"example_titles\": [\"Macbeth\",\"The Picture of Dorian Gray\",\"Carmen\",\"Bonnie & Clyde\",\"Jules et Jim\",\"Anna Karenina\",\"Madame Bovary\",\"Julius Caesar\",],\n",
    "    \"desc\": \"\"\"Meta-plot structure:\n",
    "\n",
    "Anticipation Stage (Greed or Selfishness)\n",
    "Dream Stage\n",
    "Frustration Stage\n",
    "Nightmare Stage\n",
    "Destruction or Death Wish Stage\"\"\", },\n",
    "     \"Rebirth\": {\n",
    "         \"example_titles\": [\"Sleeping Beauty\",\"The Frog Prince\",\"Beauty and the Beast\",\"The Snow Queen\",\"A Christmas Carol\",\"The Secret Garden\",\"Peer Gynt\",],\n",
    "         \"desc\": \"\"\"Meta-plot structure:\n",
    "Under the Shadow\n",
    "A young hero or heroine falls under the shadow of a dark power\n",
    "The Threat Recedes\n",
    "Everything seems to go well for a while - the threat appears to have receded.\n",
    "The Threat Returns\n",
    "Eventually the threat approaches again in full force, until the hero or heroine is seen imprisoned in a state of living death.\n",
    "The Dark Power Triumphant\n",
    "The state of living death continues for a long time when it seems the dark power has completely triumphed.\n",
    "Miraculous Redemption\n",
    "If the imprisoned person is a heroine, redeemed by the hero; if a hero, by a young woman or child.\"\"\",},\n",
    "         \"Rebellion Against ‘The One’\": {\n",
    "             \"desc\": \"\"\"A solitary hero/heroine finds themselves being drawn into a state of resentful, mystified opposition to some immense power, which exercises total sway over the world of the hero. Initially they feel they are right and the mysterious power is at fault, but suddenly the hero/heroine is confronted by the power in its awesome omnipotence. The rebellious hero/heroine is crushed and forced to recognise that their view had been based only on a very limited subjective perception of reality. They accept the power’s rightful claim to rule.\"\"\",\n",
    "         \"example_titles\": [\"The Book of Job\"],\n",
    "         \"example_titles_dark\": [\"Brave New World\",\"Nineteen Eighty-Four\",],},\n",
    " \"The Mystery\": {\n",
    "             \"desc\": \"\"\"Begins by posing a riddle, usually through the revelation that some baffling crime has been committed. Central figure unravels the riddle.\"\"\",\n",
    "             \"example_titles\": [\"Bel and the Dragon\",\"Sir Arthur Conan Doyle\",\"Agatha Christie\"],}\n",
    "}"
   ]
  },
  {
   "cell_type": "code",
   "execution_count": 12,
   "metadata": {
    "collapsed": false
   },
   "outputs": [
    {
     "data": {
      "text/plain": [
       "{'Comedy': {'desc': 'Comedy is dealt with by a less rigid structure. In essence, the comedy meta-plot is about building an absurdly complex set of problems which then miraculously resolve at the climax. There is much discussion of how the comedy plot has developed over time:\\n    Stage one: Aristophanes\\n    Stage two: ‘The New Comedy’ (comedy becomes a love story)\\n    Stage three: Shakespeare (plot fully developed)\\n    Comedy as real life: Jane Austen\\n    The plot disguised: Middlemarch, War and Peace\\n    The plot burlesqued: Gilbert & Sullivan, Oscar Wilde\\nMeta-plot structure:\\nUnder the Shadow\\nA little world in which people are under the shadow of confusion, uncertainty and frustration and are shut up from one another.\\nTightening the Knot \\nThe confusion gets worse until the pressure of darkness is at its most acute and everyone is in a nightmarish tangle.\\nResolution\\nWith the coming to light of things not previously recognised, perceptions are dramatically changed. Shadows are dispelled, the situation is miraculously transformed and the little world is brought together in a state of joyful union.',\n",
       "  'example_titles': ['Jane Austen',\n",
       "   'Middlemarch',\n",
       "   'War and Peace',\n",
       "   'Gilbert & Sullivan',\n",
       "   'Oscar Wilde']},\n",
       " 'Overcoming the Monster (and the Thrilling Escape from Death)': {'desc': 'Meta-plot structure:\\n\\nAnticipation Stage (The Call)\\nDream Stage (Initial Success)                   \\nFrustration Stage (Confrontation)\\nNightmare Stage (Final Ordeal)\\nMiraculous Escape (Death of the Monster)',\n",
       "  'example_titles': ['Perseus',\n",
       "   'Theseus',\n",
       "   'Beowulf',\n",
       "   'Dracula',\n",
       "   'War of the Worlds',\n",
       "   'Nicholas Nickleby',\n",
       "   'The Guns of Navarone',\n",
       "   'Seven Samurai/The Magnificent Seven',\n",
       "   'James Bond',\n",
       "   'Star Wars: A New Hope']},\n",
       " 'Rags to Riches': {'desc': 'Meta-plot structure:\\n\\nInitial Wretchedness at Home (The Call)\\nOut into the World (Initial Success)\\nThe Central Crisis\\nIndependence (Final Ordeal)\\nFinal Union, Completion and Fulfilment',\n",
       "  'example_titles': ['Cinderella',\n",
       "   'Aladdin',\n",
       "   'Jane Eyre',\n",
       "   'Great Expectations',\n",
       "   'David Copperfield'],\n",
       "  'example_titles_dark': ['Dark Version: Le Rouge et Le Noir (1831)',\n",
       "   'What Makes Sammy Run? (1940)']},\n",
       " 'Rebellion Against ‘The One’': {'desc': 'A solitary hero/heroine finds themselves being drawn into a state of resentful, mystified opposition to some immense power, which exercises total sway over the world of the hero. Initially they feel they are right and the mysterious power is at fault, but suddenly the hero/heroine is confronted by the power in its awesome omnipotence. The rebellious hero/heroine is crushed and forced to recognise that their view had been based only on a very limited subjective perception of reality. They accept the power’s rightful claim to rule.',\n",
       "  'example_titles': ['The Book of Job'],\n",
       "  'example_titles_dark': ['Brave New World', 'Nineteen Eighty-Four']},\n",
       " 'Rebirth': {'desc': 'Meta-plot structure:\\nUnder the Shadow\\nA young hero or heroine falls under the shadow of a dark power\\nThe Threat Recedes\\nEverything seems to go well for a while - the threat appears to have receded.\\nThe Threat Returns\\nEventually the threat approaches again in full force, until the hero or heroine is seen imprisoned in a state of living death.\\nThe Dark Power Triumphant\\nThe state of living death continues for a long time when it seems the dark power has completely triumphed.\\nMiraculous Redemption\\nIf the imprisoned person is a heroine, redeemed by the hero; if a hero, by a young woman or child.',\n",
       "  'example_titles': ['Sleeping Beauty',\n",
       "   'The Frog Prince',\n",
       "   'Beauty and the Beast',\n",
       "   'The Snow Queen',\n",
       "   'A Christmas Carol',\n",
       "   'The Secret Garden',\n",
       "   'Peer Gynt']},\n",
       " 'The Basic Meta-plot': {'desc': 'Most of the meta-plots are variations on the following pattern:\\nAnticipation Stage\\nThe call to adventure, and the promise of what is to come.\\nDream Stage\\nThe heroine or hero experiences some initial success - everything seems to be going well, sometimes with a dreamlike sense of invincibility.\\nFrustration Stage\\nFirst confrontation with the real enemy. Things begin to go wrong.\\nNightmare Stage\\nAt the point of maximum dramatic tension, disaster has erupted and it seems all hope is lost.\\nResolution\\nThe hero or heroine is eventually victorious, and may also be united or reunited with their ‘other half’ (a romantic partner).\\nThere are some parallels with Campbell’s Heroic Monomyth, but his pattern is more applicable to mythology than to stories in general.',\n",
       "  'example_titles': []},\n",
       " 'The Mystery': {'desc': 'Begins by posing a riddle, usually through the revelation that some baffling crime has been committed. Central figure unravels the riddle.',\n",
       "  'example_titles': ['Bel and the Dragon',\n",
       "   'Sir Arthur Conan Doyle',\n",
       "   'Agatha Christie']},\n",
       " 'The Quest': {'desc': 'Meta-plot structure:\\n\\nThe Call (Oppressed in the City of Destruction)\\nThe Journey (Ordeals of the Hero/Heroine & Companions)\\nMay include some or all of the following:\\na. Monsters\\nb. Temptations\\nc. The Deadly Opposites\\nd. The Journey to the Underworld\\nArrival and Frustration\\nThe Final Ordeals\\nThe Goal (Kingdom, Other Half or Elixir won)',\n",
       "  'example_titles': ['The Odyssey',\n",
       "   'Pilgrim’s Progress',\n",
       "   'King Solomon’s Mines',\n",
       "   'Watership Down']},\n",
       " 'Tragedy': {'desc': 'Meta-plot structure:\\n\\nAnticipation Stage (Greed or Selfishness)\\nDream Stage\\nFrustration Stage\\nNightmare Stage\\nDestruction or Death Wish Stage',\n",
       "  'example_titles': ['Macbeth',\n",
       "   'The Picture of Dorian Gray',\n",
       "   'Carmen',\n",
       "   'Bonnie & Clyde',\n",
       "   'Jules et Jim',\n",
       "   'Anna Karenina',\n",
       "   'Madame Bovary',\n",
       "   'Julius Caesar']},\n",
       " 'Voyage & Return': {'desc': 'Meta-plot structure:\\nAnticipation Stage (‘Fall’ into the Other World)\\nInitial Fascination (Dream Stage)\\nFrustration Stage\\nNightmare Stage\\nThrilling Escape and Return',\n",
       "  'example_titles': ['Alice in Wonderland',\n",
       "   'Goldilocks and the Three Bears',\n",
       "   'Orpheus',\n",
       "   'The Time Machine',\n",
       "   'Peter Rabbit',\n",
       "   'Brideshead Revisited',\n",
       "   'The Rime of the Ancient Mariner',\n",
       "   'Gone with the Wind',\n",
       "   'The Third Man (1948)']}}"
      ]
     },
     "execution_count": 12,
     "metadata": {},
     "output_type": "execute_result"
    }
   ],
   "source": []
  },
  {
   "cell_type": "code",
   "execution_count": 13,
   "metadata": {
    "collapsed": false
   },
   "outputs": [
    {
     "data": {
      "text/plain": [
       "10"
      ]
     },
     "execution_count": 13,
     "metadata": {},
     "output_type": "execute_result"
    }
   ],
   "source": [
    "len(a)"
   ]
  },
  {
   "cell_type": "code",
   "execution_count": 14,
   "metadata": {
    "collapsed": false
   },
   "outputs": [
    {
     "data": {
      "text/plain": [
       "dict_keys(['Voyage & Return', 'Rebirth', 'The Mystery', 'The Basic Meta-plot', 'Tragedy', 'Comedy', 'The Quest', 'Rags to Riches', 'Rebellion Against ‘The One’', 'Overcoming the Monster (and the Thrilling Escape from Death)'])"
      ]
     },
     "execution_count": 14,
     "metadata": {},
     "output_type": "execute_result"
    }
   ],
   "source": [
    "a.keys()"
   ]
  },
  {
   "cell_type": "code",
   "execution_count": 20,
   "metadata": {
    "collapsed": false
   },
   "outputs": [
    {
     "name": "stdout",
     "output_type": "stream",
     "text": [
      "Voyage & Return\n",
      "----------------------------------------\n",
      "Has titles:\n",
      "\n",
      "Alice in Wonderland\n",
      "Goldilocks and the Three Bears\n",
      "Orpheus\n",
      "The Time Machine\n",
      "Peter Rabbit\n",
      "Brideshead Revisited\n",
      "The Rime of the Ancient Mariner\n",
      "Gone with the Wind\n",
      "The Third Man (1948)\n",
      "========================================\n",
      "Rebirth\n",
      "----------------------------------------\n",
      "Has titles:\n",
      "\n",
      "Sleeping Beauty\n",
      "The Frog Prince\n",
      "Beauty and the Beast\n",
      "The Snow Queen\n",
      "A Christmas Carol\n",
      "The Secret Garden\n",
      "Peer Gynt\n",
      "========================================\n",
      "The Mystery\n",
      "----------------------------------------\n",
      "Has titles:\n",
      "\n",
      "Bel and the Dragon\n",
      "Sir Arthur Conan Doyle\n",
      "Agatha Christie\n",
      "========================================\n",
      "The Basic Meta-plot\n",
      "========================================\n",
      "Tragedy\n",
      "----------------------------------------\n",
      "Has titles:\n",
      "\n",
      "Macbeth\n",
      "The Picture of Dorian Gray\n",
      "Carmen\n",
      "Bonnie & Clyde\n",
      "Jules et Jim\n",
      "Anna Karenina\n",
      "Madame Bovary\n",
      "Julius Caesar\n",
      "========================================\n",
      "Comedy\n",
      "----------------------------------------\n",
      "Has titles:\n",
      "\n",
      "Jane Austen\n",
      "Middlemarch\n",
      "War and Peace\n",
      "Gilbert & Sullivan\n",
      "Oscar Wilde\n",
      "========================================\n",
      "The Quest\n",
      "----------------------------------------\n",
      "Has titles:\n",
      "\n",
      "The Odyssey\n",
      "Pilgrim’s Progress\n",
      "King Solomon’s Mines\n",
      "Watership Down\n",
      "========================================\n",
      "Rags to Riches\n",
      "----------------------------------------\n",
      "Has titles:\n",
      "\n",
      "Cinderella\n",
      "Aladdin\n",
      "Jane Eyre\n",
      "Great Expectations\n",
      "David Copperfield\n",
      "========================================\n",
      "Rebellion Against ‘The One’\n",
      "----------------------------------------\n",
      "Has titles:\n",
      "\n",
      "The Book of Job\n",
      "========================================\n",
      "Overcoming the Monster (and the Thrilling Escape from Death)\n",
      "----------------------------------------\n",
      "Has titles:\n",
      "\n",
      "Perseus\n",
      "Theseus\n",
      "Beowulf\n",
      "Dracula\n",
      "War of the Worlds\n",
      "Nicholas Nickleby\n",
      "The Guns of Navarone\n",
      "Seven Samurai/The Magnificent Seven\n",
      "James Bond\n",
      "Star Wars: A New Hope\n",
      "========================================\n"
     ]
    }
   ],
   "source": [
    "for key in a:\n",
    "    print(key)\n",
    "    if len(a[key][\"example_titles\"]) > 0:\n",
    "        print(\"-\"*40)\n",
    "        print(\"Has titles:\")\n",
    "        print()\n",
    "        for title in a[key][\"example_titles\"]:\n",
    "            print(title)\n",
    "    print(\"=\"*40)"
   ]
  },
  {
   "cell_type": "markdown",
   "metadata": {},
   "source": [
    "go look for all of these in my set of gutenberg books..."
   ]
  },
  {
   "cell_type": "code",
   "execution_count": null,
   "metadata": {
    "collapsed": true
   },
   "outputs": [],
   "source": []
  }
 ],
 "metadata": {
  "kernelspec": {
   "display_name": "Python 3",
   "language": "python",
   "name": "python3"
  },
  "language_info": {
   "codemirror_mode": {
    "name": "ipython",
    "version": 3
   },
   "file_extension": ".py",
   "mimetype": "text/x-python",
   "name": "python",
   "nbconvert_exporter": "python",
   "pygments_lexer": "ipython3",
   "version": "3.5.0"
  }
 },
 "nbformat": 4,
 "nbformat_minor": 0
}
