{
 "cells": [
  {
   "cell_type": "code",
   "execution_count": 1,
   "metadata": {
    "collapsed": false
   },
   "outputs": [
    {
     "name": "stdout",
     "output_type": "stream",
     "text": [
      "loading labMT with stopVal=0.0, for 10222 words\n"
     ]
    }
   ],
   "source": [
    "from os import listdir, mkdir\n",
    "from os.path import isfile, join, isdir\n",
    "from json import loads\n",
    "from re import findall,UNICODE\n",
    "import sys\n",
    "sys.path.append(\"/Users/andyreagan/tools/python\")\n",
    "from kitchentable.dogtoys import *\n",
    "from labMTsimple.labMTsimple.speedy import LabMT\n",
    "my_LabMT = LabMT()\n",
    "from labMTsimple.labMTsimple.storyLab import *\n",
    "import numpy as np\n",
    "from database.bookclass import Book_raw_data\n",
    "import pickle\n",
    "\n",
    "import os\n",
    "sys.path.append('/Users/andyreagan/projects/2014/09-books/database')\n",
    "os.environ.setdefault('DJANGO_SETTINGS_MODULE','gutenbergdb.settings')\n",
    "import django\n",
    "django.setup()\n",
    "\n",
    "from library.models import *\n",
    "\n",
    "from tqdm import tqdm"
   ]
  },
  {
   "cell_type": "code",
   "execution_count": 2,
   "metadata": {
    "collapsed": true
   },
   "outputs": [],
   "source": [
    "# all our essentials\n",
    "from matplotlib import rc,rcParams\n",
    "rc('font', family='sans-serif') \n",
    "rc('font', serif='Helvetica Neue')\n",
    "rc('text', usetex='false')\n",
    "\n",
    "rc('font', family='serif')\n",
    "rc('font', family='cmr10')\n",
    "rc('text', usetex='true')\n",
    "# this should accomplish the same thing\n",
    "rcParams['text.usetex'] = True\n",
    "rcParams['text.latex.preamble'] = r'\\usepackage{hyperref}'\n",
    "rcParams['text.latex.unicode'] = True\n",
    "\n",
    "rcParams.update({'font.size': 12})\n",
    "import matplotlib.pyplot as plt\n",
    "%matplotlib inline\n",
    "\n",
    "# import matplotlib\n",
    "# matplotlib.use(\"pgf\")\n",
    "# pgf_with_custom_preamble = {\n",
    "#     \"text.usetex\": True,\n",
    "#     \"text.latex.unicode\": True,\n",
    "#     \"pgf.preamble\": [\n",
    "#         r\"\\usepackage{hyperref}\"\n",
    "#         ]\n",
    "# }\n",
    "# matplotlib.rcParams.update(pgf_with_custom_preamble)\n",
    "# matplotlib.rcParams.update({'font.size': 12})\n",
    "# from matplotlib import pyplot as plt"
   ]
  },
  {
   "cell_type": "code",
   "execution_count": 3,
   "metadata": {
    "collapsed": false
   },
   "outputs": [
    {
     "name": "stdout",
     "output_type": "stream",
     "text": [
      "2590\n"
     ]
    }
   ],
   "source": [
    "filters = {\"min_dl\":20,\n",
    "           \"length\": [20000,100000],\n",
    "           \"P\": True,\n",
    "           \"n_points\": 200,\n",
    "           \"salad\": True,\n",
    "          }\n",
    "q = Book.objects.filter(exclude=False,length__gt=10000,length__lte=200000,\n",
    "                        downloads__gte=150,numUniqWords__gt=1000,numUniqWords__lt=18000,lang_code_id=0)\n",
    "q = Book.objects.filter(exclude=False,length__gt=filters[\"length\"][0],length__lte=filters[\"length\"][1],\n",
    "                        downloads__gte=filters[\"min_dl\"],lang_code_id=0,locc_with_P=filters[\"P\"])\n",
    "print(len(q))"
   ]
  },
  {
   "cell_type": "code",
   "execution_count": 4,
   "metadata": {
    "collapsed": false
   },
   "outputs": [],
   "source": [
    "a = q[0]"
   ]
  },
  {
   "cell_type": "code",
   "execution_count": 5,
   "metadata": {
    "collapsed": false
   },
   "outputs": [
    {
     "data": {
      "text/plain": [
       "<Book: Alice's Adventures in Wonderland>"
      ]
     },
     "execution_count": 5,
     "metadata": {},
     "output_type": "execute_result"
    }
   ],
   "source": [
    "a"
   ]
  },
  {
   "cell_type": "code",
   "execution_count": 6,
   "metadata": {
    "collapsed": false
   },
   "outputs": [
    {
     "data": {
      "text/plain": [
       "'data/gutenberg/gutenberg-007/11.txt'"
      ]
     },
     "execution_count": 6,
     "metadata": {},
     "output_type": "execute_result"
    }
   ],
   "source": [
    "a.txt_file_path"
   ]
  },
  {
   "cell_type": "code",
   "execution_count": 7,
   "metadata": {
    "collapsed": false
   },
   "outputs": [],
   "source": [
    "f = open(a.txt_file_path,\"r\")\n",
    "raw_text = f.read()\n",
    "f.close()"
   ]
  },
  {
   "cell_type": "code",
   "execution_count": 8,
   "metadata": {
    "collapsed": false
   },
   "outputs": [],
   "source": [
    "lines = raw_text.split(\"\\n\")"
   ]
  },
  {
   "cell_type": "code",
   "execution_count": 9,
   "metadata": {
    "collapsed": false
   },
   "outputs": [
    {
     "data": {
      "text/plain": [
       "[\"\\ufeffProject Gutenberg's Alice's Adventures in Wonderland, by Lewis Carroll\",\n",
       " '',\n",
       " 'This eBook is for the use of anyone anywhere at no cost and with',\n",
       " 'almost no restrictions whatsoever.  You may copy it, give it away or',\n",
       " 're-use it under the terms of the Project Gutenberg License included',\n",
       " 'with this eBook or online at www.gutenberg.org',\n",
       " '',\n",
       " '',\n",
       " \"Title: Alice's Adventures in Wonderland\",\n",
       " '']"
      ]
     },
     "execution_count": 9,
     "metadata": {},
     "output_type": "execute_result"
    }
   ],
   "source": [
    "lines[:10]"
   ]
  },
  {
   "cell_type": "code",
   "execution_count": 10,
   "metadata": {
    "collapsed": false
   },
   "outputs": [
    {
     "name": "stdout",
     "output_type": "stream",
     "text": [
      "*** START OF THIS PROJECT GUTENBERG EBOOK ALICE'S ADVENTURES IN WONDERLAND ***\n",
      "*** START OF THIS PROJECT GUTENBERG EBOOK ALICE'S ADVENTURES IN WONDERLAND ***\n",
      "*** END OF THIS PROJECT GUTENBERG EBOOK ALICE'S ADVENTURES IN WONDERLAND ***\n",
      "*** END OF THIS PROJECT GUTENBERG EBOOK ALICE'S ADVENTURES IN WONDERLAND ***\n",
      "***** This file should be named 11.txt or 11.zip *****\n",
      "*** START: FULL LICENSE ***\n",
      "*** START: FULL LICENSE ***\n"
     ]
    }
   ],
   "source": [
    "for line in lines:\n",
    "    if \"***\" in line:\n",
    "        print(line)\n",
    "    if \"START\" in line and \"***\" in line:\n",
    "        print(line)\n",
    "    if \"END\" in line and \"***\" in line:\n",
    "        print(line)"
   ]
  },
  {
   "cell_type": "code",
   "execution_count": 11,
   "metadata": {
    "collapsed": false
   },
   "outputs": [
    {
     "name": "stderr",
     "output_type": "stream",
     "text": [
      "2590it [00:16, 159.78it/s]\n"
     ]
    }
   ],
   "source": [
    "annotation_count = np.zeros(len(q))\n",
    "start_book = np.zeros(len(q))\n",
    "end_book = np.zeros(len(q))\n",
    "for i,b in tqdm(enumerate(q)):\n",
    "    f = open(b.txt_file_path,\"r\")\n",
    "    raw_text = f.read()\n",
    "    f.close()\n",
    "    lines = raw_text.split(\"\\n\")\n",
    "    for line in lines:\n",
    "        if \"***\" in line:\n",
    "            annotation_count[i] += 1\n",
    "        if \"START\" in line and \"***\" in line:\n",
    "            start_book[i] += 1\n",
    "        if \"END\" in line and \"***\" in line:\n",
    "            end_book[i] += 1"
   ]
  },
  {
   "cell_type": "code",
   "execution_count": 12,
   "metadata": {
    "collapsed": false
   },
   "outputs": [
    {
     "data": {
      "text/plain": [
       "4.2675675675675677"
      ]
     },
     "execution_count": 12,
     "metadata": {},
     "output_type": "execute_result"
    }
   ],
   "source": [
    "annotation_count.mean()"
   ]
  },
  {
   "cell_type": "code",
   "execution_count": 13,
   "metadata": {
    "collapsed": false
   },
   "outputs": [
    {
     "data": {
      "text/plain": [
       "(array([  2.00000000e+01,   5.70000000e+01,   2.23100000e+03,\n",
       "          1.74000000e+02,   0.00000000e+00,   4.70000000e+01,\n",
       "          8.00000000e+00,   6.00000000e+00,   2.00000000e+00,\n",
       "          0.00000000e+00,   2.70000000e+01,   3.00000000e+00,\n",
       "          1.00000000e+00,   0.00000000e+00,   1.00000000e+00,\n",
       "          4.00000000e+00,   0.00000000e+00,   0.00000000e+00,\n",
       "          0.00000000e+00,   2.00000000e+00,   0.00000000e+00,\n",
       "          1.00000000e+00,   0.00000000e+00,   0.00000000e+00,\n",
       "          0.00000000e+00,   1.00000000e+00,   0.00000000e+00,\n",
       "          0.00000000e+00,   1.00000000e+00,   1.00000000e+00,\n",
       "          0.00000000e+00,   0.00000000e+00,   1.00000000e+00,\n",
       "          0.00000000e+00,   1.00000000e+00,   0.00000000e+00,\n",
       "          0.00000000e+00,   0.00000000e+00,   0.00000000e+00,\n",
       "          0.00000000e+00,   0.00000000e+00,   0.00000000e+00,\n",
       "          0.00000000e+00,   0.00000000e+00,   0.00000000e+00,\n",
       "          0.00000000e+00,   0.00000000e+00,   0.00000000e+00,\n",
       "          0.00000000e+00,   0.00000000e+00,   0.00000000e+00,\n",
       "          0.00000000e+00,   0.00000000e+00,   0.00000000e+00,\n",
       "          0.00000000e+00,   0.00000000e+00,   0.00000000e+00,\n",
       "          0.00000000e+00,   0.00000000e+00,   0.00000000e+00,\n",
       "          0.00000000e+00,   0.00000000e+00,   0.00000000e+00,\n",
       "          0.00000000e+00,   0.00000000e+00,   0.00000000e+00,\n",
       "          0.00000000e+00,   0.00000000e+00,   0.00000000e+00,\n",
       "          0.00000000e+00,   0.00000000e+00,   0.00000000e+00,\n",
       "          0.00000000e+00,   0.00000000e+00,   0.00000000e+00,\n",
       "          0.00000000e+00,   0.00000000e+00,   0.00000000e+00,\n",
       "          0.00000000e+00,   0.00000000e+00,   0.00000000e+00,\n",
       "          0.00000000e+00,   0.00000000e+00,   0.00000000e+00,\n",
       "          0.00000000e+00,   0.00000000e+00,   0.00000000e+00,\n",
       "          0.00000000e+00,   0.00000000e+00,   0.00000000e+00,\n",
       "          0.00000000e+00,   0.00000000e+00,   0.00000000e+00,\n",
       "          0.00000000e+00,   0.00000000e+00,   0.00000000e+00,\n",
       "          0.00000000e+00,   0.00000000e+00,   0.00000000e+00,\n",
       "          1.00000000e+00]),\n",
       " array([  2.  ,   2.78,   3.56,   4.34,   5.12,   5.9 ,   6.68,   7.46,\n",
       "          8.24,   9.02,   9.8 ,  10.58,  11.36,  12.14,  12.92,  13.7 ,\n",
       "         14.48,  15.26,  16.04,  16.82,  17.6 ,  18.38,  19.16,  19.94,\n",
       "         20.72,  21.5 ,  22.28,  23.06,  23.84,  24.62,  25.4 ,  26.18,\n",
       "         26.96,  27.74,  28.52,  29.3 ,  30.08,  30.86,  31.64,  32.42,\n",
       "         33.2 ,  33.98,  34.76,  35.54,  36.32,  37.1 ,  37.88,  38.66,\n",
       "         39.44,  40.22,  41.  ,  41.78,  42.56,  43.34,  44.12,  44.9 ,\n",
       "         45.68,  46.46,  47.24,  48.02,  48.8 ,  49.58,  50.36,  51.14,\n",
       "         51.92,  52.7 ,  53.48,  54.26,  55.04,  55.82,  56.6 ,  57.38,\n",
       "         58.16,  58.94,  59.72,  60.5 ,  61.28,  62.06,  62.84,  63.62,\n",
       "         64.4 ,  65.18,  65.96,  66.74,  67.52,  68.3 ,  69.08,  69.86,\n",
       "         70.64,  71.42,  72.2 ,  72.98,  73.76,  74.54,  75.32,  76.1 ,\n",
       "         76.88,  77.66,  78.44,  79.22,  80.  ]),\n",
       " <a list of 100 Patch objects>)"
      ]
     },
     "execution_count": 13,
     "metadata": {},
     "output_type": "execute_result"
    },
    {
     "data": {
      "image/png": "[encoded data removed]",
      "text/plain": [
       "<matplotlib.figure.Figure at 0x11308b4e0>"
      ]
     },
     "metadata": {},
     "output_type": "display_data"
    }
   ],
   "source": [
    "plt.hist(annotation_count,bins=100)"
   ]
  },
  {
   "cell_type": "code",
   "execution_count": 14,
   "metadata": {
    "collapsed": false
   },
   "outputs": [
    {
     "data": {
      "text/plain": [
       "1.9262548262548262"
      ]
     },
     "execution_count": 14,
     "metadata": {},
     "output_type": "execute_result"
    }
   ],
   "source": [
    "start_book.mean(0)"
   ]
  },
  {
   "cell_type": "code",
   "execution_count": 15,
   "metadata": {
    "collapsed": false
   },
   "outputs": [
    {
     "data": {
      "text/plain": [
       "(array([  2.90000000e+01,   1.35000000e+02,   2.42400000e+03,\n",
       "          2.00000000e+00]),\n",
       " array([0, 1, 2, 3, 4]),\n",
       " <a list of 4 Patch objects>)"
      ]
     },
     "execution_count": 15,
     "metadata": {},
     "output_type": "execute_result"
    },
    {
     "data": {
      "image/png": "[encoded data removed]",
      "text/plain": [
       "<matplotlib.figure.Figure at 0x112ec1be0>"
      ]
     },
     "metadata": {},
     "output_type": "display_data"
    }
   ],
   "source": [
    "plt.hist(start_book,bins=[0,1,2,3,4])"
   ]
  },
  {
   "cell_type": "code",
   "execution_count": 16,
   "metadata": {
    "collapsed": false
   },
   "outputs": [
    {
     "data": {
      "text/plain": [
       "216"
      ]
     },
     "execution_count": 16,
     "metadata": {},
     "output_type": "execute_result"
    }
   ],
   "source": [
    "annotation_count.argmax()"
   ]
  },
  {
   "cell_type": "code",
   "execution_count": 17,
   "metadata": {
    "collapsed": false
   },
   "outputs": [
    {
     "data": {
      "text/plain": [
       "<Book: The Country of the Pointed Firs>"
      ]
     },
     "execution_count": 17,
     "metadata": {},
     "output_type": "execute_result"
    }
   ],
   "source": [
    "q[109]"
   ]
  },
  {
   "cell_type": "code",
   "execution_count": 18,
   "metadata": {
    "collapsed": false
   },
   "outputs": [
    {
     "data": {
      "text/plain": [
       "367"
      ]
     },
     "execution_count": 18,
     "metadata": {},
     "output_type": "execute_result"
    }
   ],
   "source": [
    "q[109].gutenberg_id"
   ]
  },
  {
   "cell_type": "code",
   "execution_count": 19,
   "metadata": {
    "collapsed": false
   },
   "outputs": [
    {
     "data": {
      "text/plain": [
       "80.0"
      ]
     },
     "execution_count": 19,
     "metadata": {},
     "output_type": "execute_result"
    }
   ],
   "source": [
    "annotation_count.max()"
   ]
  },
  {
   "cell_type": "code",
   "execution_count": 20,
   "metadata": {
    "collapsed": false
   },
   "outputs": [
    {
     "data": {
      "text/plain": [
       "100.0"
      ]
     },
     "execution_count": 20,
     "metadata": {},
     "output_type": "execute_result"
    }
   ],
   "source": [
    "len(start_book>0)/len(start_book)*100"
   ]
  },
  {
   "cell_type": "code",
   "execution_count": 21,
   "metadata": {
    "collapsed": false
   },
   "outputs": [
    {
     "data": {
      "text/plain": [
       "100.0"
      ]
     },
     "execution_count": 21,
     "metadata": {},
     "output_type": "execute_result"
    }
   ],
   "source": [
    "len(end_book>0)/len(start_book)*100"
   ]
  },
  {
   "cell_type": "code",
   "execution_count": 22,
   "metadata": {
    "collapsed": true
   },
   "outputs": [],
   "source": [
    "# so they all have this..."
   ]
  },
  {
   "cell_type": "code",
   "execution_count": 100,
   "metadata": {
    "collapsed": false
   },
   "outputs": [
    {
     "name": "stderr",
     "output_type": "stream",
     "text": [
      "2590it [00:20, 125.58it/s]\n"
     ]
    }
   ],
   "source": [
    "annotation_count = np.zeros(len(q))\n",
    "start_book = np.zeros(len(q))\n",
    "end_book = np.zeros(len(q))\n",
    "start_book_i = np.zeros(len(q))\n",
    "end_book_i = np.zeros(len(q))\n",
    "for i,b in tqdm(enumerate(q)):\n",
    "    f = open(b.txt_file_path,\"r\")\n",
    "    raw_text = f.read()\n",
    "    f.close()\n",
    "    lines = raw_text.split(\"\\n\")\n",
    "    # pass 1, this format is easy and gets 78.9% of books\n",
    "    for j,line in enumerate(lines):\n",
    "        if \"***\" == line[:3]:\n",
    "            annotation_count[i] += 1\n",
    "        if \"START OF THIS PROJECT GUTENBERG EBOOK\" in line or \"START OF THE PROJECT GUTENBERG EBOOK\" in line:\n",
    "        # and \"***\" in line and start_book[i] == 0 and j<.25*len(lines): \n",
    "            start_book[i] = j/float(len(lines))\n",
    "            start_book_i[i] = j\n",
    "        if \"END OF THIS PROJECT GUTENBERG EBOOK\" in line or \"END OF THE PROJECT GUTENBERG EBOOK\" in line:\n",
    "        #  and \"***\" in line and j>.75*len(lines)\n",
    "            end_book[i] = j/float(len(lines))\n",
    "            end_book_i[i] = j\n",
    "    if start_book[i]>0.0 and end_book[i]>0.0:\n",
    "        next\n",
    "    # print(\"simple format not present\")\n",
    "    for j,line in enumerate(lines):\n",
    "        if \"END\" in line and  \"SMALL PRINT\" in line and j<.5*len(lines):\n",
    "            start_book[i] = j/float(len(lines))\n",
    "            start_book_i[i] = j\n",
    "        if \"end\" in line.lower() and \"project gutenberg\" in line.lower() and j>.75*len(lines):\n",
    "            end_book[i] = j/float(len(lines))\n",
    "            end_book_i[i] = j\n",
    "    if end_book[i] == 0.0:\n",
    "        for j,line in enumerate(lines):\n",
    "            if \"THE END\" in line and j>.9*len(lines):\n",
    "                end_book[i] = j/float(len(lines))\n",
    "                end_book_i[i] = j\n",
    "    # got 98.95%...\n",
    "    if end_book[i] == 0.0:\n",
    "        end_book[i] = 1.0\n",
    "        end_book_i[i] = len(lines)-1"
   ]
  },
  {
   "cell_type": "code",
   "execution_count": 101,
   "metadata": {
    "collapsed": false
   },
   "outputs": [
    {
     "name": "stdout",
     "output_type": "stream",
     "text": [
      "98.8030888030888\n",
      "100.0\n"
     ]
    }
   ],
   "source": [
    "print(len(start_book[start_book>0.0])/len(start_book)*100)\n",
    "print(len(end_book[end_book>0.0])/len(end_book)*100)"
   ]
  },
  {
   "cell_type": "code",
   "execution_count": 102,
   "metadata": {
    "collapsed": false
   },
   "outputs": [
    {
     "data": {
      "image/png": "[encoded data removed]",
      "text/plain": [
       "<matplotlib.figure.Figure at 0x1154f9c88>"
      ]
     },
     "metadata": {},
     "output_type": "display_data"
    }
   ],
   "source": [
    "a = plt.hist(start_book,bins=100)"
   ]
  },
  {
   "cell_type": "code",
   "execution_count": 103,
   "metadata": {
    "collapsed": false
   },
   "outputs": [
    {
     "data": {
      "image/png": "[encoded data removed]",
      "text/plain": [
       "<matplotlib.figure.Figure at 0x114972908>"
      ]
     },
     "metadata": {},
     "output_type": "display_data"
    }
   ],
   "source": [
    "b = plt.hist(end_book,bins=100)"
   ]
  },
  {
   "cell_type": "code",
   "execution_count": 104,
   "metadata": {
    "collapsed": false
   },
   "outputs": [],
   "source": [
    "missing_end = np.arange(len(end_book))[end_book<.1]\n",
    "for b_id in missing_end:\n",
    "    print(q[int(b_id)].gutenberg_id,\": \",q[int(b_id)].title)"
   ]
  },
  {
   "cell_type": "code",
   "execution_count": 105,
   "metadata": {
    "collapsed": false,
    "scrolled": false
   },
   "outputs": [
    {
     "name": "stdout",
     "output_type": "stream",
     "text": [
      "1106 :  The Tragedy of Titus Andronicus\n",
      "1107 :  The Taming of the Shrew\n",
      "1108 :  The Two Gentlemen of Verona\n",
      "1109 :  Love's Labour's Lost\n",
      "1110 :  King John\n",
      "1111 :  King Richard the Second\n",
      "1114 :  The Merchant of Venice\n",
      "1115 :  The First Part of King Henry the Fourth\n",
      "1120 :  The Tragedy of Julius Caesar\n",
      "1122 :  The Tragedy of Hamlet, Prince of Denmark\n",
      "1123 :  Twelfth Night; Or, What You Will\n",
      "1125 :  All's Well That Ends Well\n",
      "1126 :  Measure for Measure\n",
      "1127 :  The Tragedy of Othello, Moor of Venice\n",
      "1128 :  The Tragedy of King Lear\n",
      "1129 :  The Tragedy of Macbeth\n",
      "1130 :  The Tragedy of Antony and Cleopatra\n",
      "1133 :  Cymbeline\n",
      "1776 :  King Richard II\n",
      "1777 :  Romeo and Juliet\n",
      "1779 :  The Merchant of Venice\n",
      "1782 :  King Henry IV, Part 2\n",
      "1785 :  Julius Caesar\n",
      "1787 :  Hamlet\n",
      "1790 :  Troilus and Cressida\n",
      "1791 :  All's Well That Ends Well\n",
      "1793 :  Othello\n",
      "1794 :  King Lear\n",
      "1795 :  Macbeth\n",
      "4682 :  Nonsense Novels\n",
      "4715 :  An African Millionaire: Episodes in the Life of the Illustrious Colonel Clay\n"
     ]
    }
   ],
   "source": [
    "missing_start = np.arange(len(start_book))[start_book==0.0]\n",
    "for b_id in missing_start:\n",
    "    print(q[int(b_id)].gutenberg_id,\": \",q[int(b_id)].title)"
   ]
  },
  {
   "cell_type": "markdown",
   "metadata": {},
   "source": [
    "# the new pipeline for gutenberg text\n",
    "let's just set it up"
   ]
  },
  {
   "cell_type": "code",
   "execution_count": 147,
   "metadata": {
    "collapsed": true
   },
   "outputs": [],
   "source": [
    "def get_maintext_lines(book):\n",
    "    f = open(book.txt_file_path,\"r\")\n",
    "    raw_text = f.read()\n",
    "    f.close()\n",
    "    lines = raw_text.split(\"\\n\")\n",
    "    start_book_i = 0\n",
    "    end_book_i = len(lines)-1\n",
    "    # pass 1, this format is easy and gets 78.9% of books\n",
    "    for j,line in enumerate(lines):\n",
    "        if \"START OF THIS PROJECT GUTENBERG EBOOK\" in line or \"START OF THE PROJECT GUTENBERG EBOOK\" in line:\n",
    "        # and \"***\" in line and start_book[i] == 0 and j<.25*len(lines): \n",
    "            start_book_i = j\n",
    "        if (\"END OF THIS PROJECT GUTENBERG EBOOK\" in line or \"END OF THE PROJECT GUTENBERG EBOOK\" in line or \"END OF PROJECT GUTENBERG\" in line.upper()) and (end_book_i == (len(lines)-1)):\n",
    "        #  and \"***\" in line and j>.75*len(lines)\n",
    "            end_book_i = j\n",
    "    if (start_book_i == 0) and (end_book_i == len(lines)-1):\n",
    "        for j,line in enumerate(lines):\n",
    "            if \"END\" in line and  \"SMALL PRINT\" in line and j<.5*len(lines):\n",
    "                start_book_i = j\n",
    "            if \"end\" in line.lower() and \"project gutenberg\" in line.lower() and j>.75*len(lines):\n",
    "                end_book_i = j\n",
    "        if end_book_i == len(lines)-1:\n",
    "            for j,line in enumerate(lines):\n",
    "                if \"THE END\" in line and j>.9*len(lines):\n",
    "                    end_book_i = j\n",
    "    return lines[(start_book_i+1):(end_book_i)]"
   ]
  },
  {
   "cell_type": "code",
   "execution_count": 181,
   "metadata": {
    "collapsed": true
   },
   "outputs": [],
   "source": [
    "def get_chunks(lines):\n",
    "    # put them back together...\n",
    "    raw_text = \"\\n\".join(lines)\n",
    "    # remove extra whitespace\n",
    "    raw_text_1 = re.sub(\"\\n[\\\\s]+?\\n\",\"\\n\\n\",raw_text)\n",
    "    # remove singleton newlines\n",
    "    raw_text_2 = re.sub(r\"([^\\n])\\n([^\\n])\",r\"\\1 \\2\",raw_text_1)\n",
    "    raw_text_3 = raw_text_2.rstrip().lstrip()\n",
    "\n",
    "    # three levels of significance\n",
    "    # single newlines were already discarded (insignificant)\n",
    "    # double newlines are real line breaks\n",
    "    # triple newlines (or more) separate content\n",
    "\n",
    "    # split on those triples (or more)\n",
    "    big_chunks = re.split(\"\\n\\n\\n+\",raw_text_3)\n",
    "\n",
    "    # now break them into the paragraphs\n",
    "    small_chunks = list(map(lambda x: re.split(\"\\n\\n\",x),big_chunks))\n",
    "    # combined_chunks = []\n",
    "    # [combined_chunks.extend(el) for el in small_chunks]\n",
    "    combined_chunks = []\n",
    "    for i in range(len(small_chunks)):\n",
    "        for j in range(len(small_chunks[i])):\n",
    "            combined_chunks.append((i,j,small_chunks[i][j]))\n",
    "    return combined_chunks"
   ]
  },
  {
   "cell_type": "code",
   "execution_count": 182,
   "metadata": {
    "collapsed": true
   },
   "outputs": [],
   "source": [
    "def replace_honorifics(s):\n",
    "    honorifics = [\"Mr\",\"Master\",\"Miss\",\"Ms\",\"Mrs\",\"Mx\",\n",
    "              \"Sir\",\"Madame\",\"Dame\",\"Lord\",\"Lady\",\"Esq\",\"Adv\",\n",
    "              \"Dr\",\"Prof\",\n",
    "              \"Rev\",\"Fr\",\"Pr\",\"Br\",\"Sr\",\"Elder\",\"Rabbo\"]\n",
    "    abbreviations = [\"J.R.R\"] # ,\"Ph.D\",\"M.S\"] # <- could end a sentence...\n",
    "    for h in honorifics+abbreviations:\n",
    "        s = re.sub(h+\"\\\\.\",h,s)\n",
    "    return s\n",
    "sentence_re = re.compile('[\\\\s\\n]*(.+?[\\\\.!?]+[\"’]*(?=\\\\s+[A-Z\"’‘]|$))',flags=re.DOTALL)\n",
    "def find_sentences(s):\n",
    "    return sentence_re.findall(replace_honorifics(s))"
   ]
  },
  {
   "cell_type": "markdown",
   "metadata": {},
   "source": [
    "## now let's test out the pipeline..."
   ]
  },
  {
   "cell_type": "code",
   "execution_count": 200,
   "metadata": {
    "collapsed": false
   },
   "outputs": [],
   "source": [
    "b = q[0]\n",
    "lines = get_maintext_lines(b)\n",
    "combined_chunks = get_chunks(lines)\n",
    "combined_chunk_sentences = []\n",
    "_ = [combined_chunk_sentences.extend([[x[0],x[1],j,y] for j,y in enumerate(find_sentences(x[2]))]) for x in combined_chunks]"
   ]
  },
  {
   "cell_type": "code",
   "execution_count": 201,
   "metadata": {
    "collapsed": false
   },
   "outputs": [
    {
     "data": {
      "text/plain": [
       "3354"
      ]
     },
     "execution_count": 201,
     "metadata": {},
     "output_type": "execute_result"
    }
   ],
   "source": [
    "len(lines)"
   ]
  },
  {
   "cell_type": "code",
   "execution_count": 202,
   "metadata": {
    "collapsed": false
   },
   "outputs": [
    {
     "name": "stdout",
     "output_type": "stream",
     "text": [
      "382 lines were cut\n"
     ]
    }
   ],
   "source": [
    "f = open(b.txt_file_path,\"r\")\n",
    "raw_text = f.read()\n",
    "f.close()\n",
    "print(len(raw_text.split(\"\\n\"))-len(lines),\"lines were cut\")"
   ]
  },
  {
   "cell_type": "code",
   "execution_count": 203,
   "metadata": {
    "collapsed": false
   },
   "outputs": [
    {
     "name": "stdout",
     "output_type": "stream",
     "text": [
      "first chunk is (0, 0, \"ALICE'S ADVENTURES IN WONDERLAND\")\n"
     ]
    }
   ],
   "source": [
    "print(\"first chunk is\",combined_chunks[0])"
   ]
  },
  {
   "cell_type": "code",
   "execution_count": 204,
   "metadata": {
    "collapsed": false
   },
   "outputs": [
    {
     "name": "stdout",
     "output_type": "stream",
     "text": [
      "last chunk is (12, 72, '              THE END')\n"
     ]
    }
   ],
   "source": [
    "print(\"last chunk is\",combined_chunks[-1])"
   ]
  },
  {
   "cell_type": "code",
   "execution_count": 229,
   "metadata": {
    "collapsed": false
   },
   "outputs": [
    {
     "name": "stdout",
     "output_type": "stream",
     "text": [
      "782\n",
      "[1, 0, 0, 'CHAPTER I.']\n",
      "[1, 2, 0, 'So she was considering in her own mind (as well as she could, for the hot day made her feel very sleepy and stupid), whether the pleasure of making a daisy-chain would be worth the trouble of getting up and picking the daisies, when suddenly a White Rabbit with pink eyes ran close by her.']\n",
      "[1, 3, 0, \"There was nothing so VERY remarkable in that; nor did Alice think it so VERY much out of the way to hear the Rabbit say to itself, 'Oh dear!\"]\n",
      "[1, 3, 1, 'Oh dear!']\n",
      "[1, 3, 2, \"I shall be late!' (when she thought it over afterwards, it occurred to her that she ought to have wondered at this, but at the time it all seemed quite natural); but when the Rabbit actually TOOK A WATCH OUT OF ITS WAISTCOAT-POCKET, and looked at it, and then hurried on, Alice started to her feet, for it flashed across her mind that she had never before seen a rabbit with either a waistcoat-pocket, or a watch to take out of it, and burning with curiosity, she ran across the field after it, and fortunately was just in time to see it pop down a large rabbit-hole under the hedge.\"]\n",
      "[1, 4, 0, 'In another moment down went Alice after it, never once considering how in the world she was to get out again.']\n",
      "[1, 5, 0, 'The rabbit-hole went straight on like a tunnel for some way, and then dipped suddenly down, so suddenly that Alice had not a moment to think about stopping herself before she found herself falling down a very deep well.']\n",
      "[1, 6, 0, 'Either the well was very deep, or she fell very slowly, for she had plenty of time as she went down to look about her and to wonder what was going to happen next.']\n",
      "[1, 6, 1, 'First, she tried to look down and make out what she was coming to, but it was too dark to see anything; then she looked at the sides of the well, and noticed that they were filled with cupboards and book-shelves; here and there she saw maps and pictures hung upon pegs.']\n",
      "[1, 6, 2, \"She took down a jar from one of the shelves as she passed; it was labelled 'ORANGE MARMALADE', but to her great disappointment it was empty: she did not like to drop the jar for fear of killing somebody, so managed to put it into one of the cupboards as she fell past it.\"]\n",
      "[1, 7, 0, \"'Well!' thought Alice to herself, 'after such a fall as this, I shall think nothing of tumbling down stairs!\"]\n",
      "[1, 7, 1, \"How brave they'll all think me at home!\"]\n",
      "[1, 8, 0, 'Down, down, down.']\n",
      "[1, 8, 1, \"Would the fall NEVER come to an end! 'I wonder how many miles I've fallen by this time?' she said aloud. 'I must be getting somewhere near the centre of the earth.\"]\n",
      "[1, 9, 0, \"Presently she began again. 'I wonder if I shall fall right THROUGH the earth!\"]\n",
      "[1, 9, 1, \"How funny it'll seem to come out among the people that walk with their heads downward!\"]\n",
      "[1, 9, 2, \"The Antipathies, I think--' (she was rather glad there WAS no one listening, this time, as it didn't sound at all the right word) '--but I shall have to ask them what the name of the country is, you know.\"]\n",
      "[1, 9, 3, \"Please, Ma'am, is this New Zealand or Australia?' (and she tried to curtsey as she spoke--fancy CURTSEYING as you're falling through the air!\"]\n",
      "[1, 9, 4, \"Do you think you could manage it?) 'And what an ignorant little girl she'll think me for asking!\"]\n",
      "[1, 10, 0, 'Down, down, down.']\n"
     ]
    }
   ],
   "source": [
    "print(len(combined_chunk_sentences))\n",
    "for x in combined_chunk_sentences[0:20]:\n",
    "    print(x)"
   ]
  },
  {
   "cell_type": "markdown",
   "metadata": {},
   "source": [
    "### it breaks on sentences that end within dialogue...\n",
    "\n",
    "and it missed the first sentence of the book!\n",
    "\n",
    "this regex was improved a lot, but it still needs help.\n",
    "\n",
    "let's see if Spacy can do better..."
   ]
  },
  {
   "cell_type": "code",
   "execution_count": 206,
   "metadata": {
    "collapsed": true
   },
   "outputs": [],
   "source": [
    "from spacy.en import English\n",
    "# Model not installed. Please run 'python -m spacy.en.download' to install latest compatible model.\n",
    "from spacy.parts_of_speech import NAMES"
   ]
  },
  {
   "cell_type": "code",
   "execution_count": 208,
   "metadata": {
    "collapsed": false
   },
   "outputs": [],
   "source": [
    "nlp = English()"
   ]
  },
  {
   "cell_type": "code",
   "execution_count": 230,
   "metadata": {
    "collapsed": false
   },
   "outputs": [
    {
     "data": {
      "text/plain": [
       "[(0, 0, \"ALICE'S ADVENTURES IN WONDERLAND\"),\n",
       " (0, 1, 'Lewis Carroll'),\n",
       " (0, 2, 'THE MILLENNIUM FULCRUM EDITION 3.0'),\n",
       " (1, 0, 'CHAPTER I. Down the Rabbit-Hole'),\n",
       " (1,\n",
       "  1,\n",
       "  \"Alice was beginning to get very tired of sitting by her sister on the bank, and of having nothing to do: once or twice she had peeped into the book her sister was reading, but it had no pictures or conversations in it, 'and what is the use of a book,' thought Alice 'without pictures or conversations?'\"),\n",
       " (1,\n",
       "  2,\n",
       "  'So she was considering in her own mind (as well as she could, for the hot day made her feel very sleepy and stupid), whether the pleasure of making a daisy-chain would be worth the trouble of getting up and picking the daisies, when suddenly a White Rabbit with pink eyes ran close by her.'),\n",
       " (1,\n",
       "  3,\n",
       "  \"There was nothing so VERY remarkable in that; nor did Alice think it so VERY much out of the way to hear the Rabbit say to itself, 'Oh dear! Oh dear! I shall be late!' (when she thought it over afterwards, it occurred to her that she ought to have wondered at this, but at the time it all seemed quite natural); but when the Rabbit actually TOOK A WATCH OUT OF ITS WAISTCOAT-POCKET, and looked at it, and then hurried on, Alice started to her feet, for it flashed across her mind that she had never before seen a rabbit with either a waistcoat-pocket, or a watch to take out of it, and burning with curiosity, she ran across the field after it, and fortunately was just in time to see it pop down a large rabbit-hole under the hedge.\"),\n",
       " (1,\n",
       "  4,\n",
       "  'In another moment down went Alice after it, never once considering how in the world she was to get out again.'),\n",
       " (1,\n",
       "  5,\n",
       "  'The rabbit-hole went straight on like a tunnel for some way, and then dipped suddenly down, so suddenly that Alice had not a moment to think about stopping herself before she found herself falling down a very deep well.'),\n",
       " (1,\n",
       "  6,\n",
       "  \"Either the well was very deep, or she fell very slowly, for she had plenty of time as she went down to look about her and to wonder what was going to happen next. First, she tried to look down and make out what she was coming to, but it was too dark to see anything; then she looked at the sides of the well, and noticed that they were filled with cupboards and book-shelves; here and there she saw maps and pictures hung upon pegs. She took down a jar from one of the shelves as she passed; it was labelled 'ORANGE MARMALADE', but to her great disappointment it was empty: she did not like to drop the jar for fear of killing somebody, so managed to put it into one of the cupboards as she fell past it.\")]"
      ]
     },
     "execution_count": 230,
     "metadata": {},
     "output_type": "execute_result"
    }
   ],
   "source": [
    "combined_chunks[:10]"
   ]
  },
  {
   "cell_type": "code",
   "execution_count": 220,
   "metadata": {
    "collapsed": false
   },
   "outputs": [],
   "source": [
    "doc = nlp(\"\\n\\n\".join(map(lambda x: x[2],combined_chunks[:10])))"
   ]
  },
  {
   "cell_type": "code",
   "execution_count": 228,
   "metadata": {
    "collapsed": false
   },
   "outputs": [
    {
     "data": {
      "text/plain": [
       "[[ALICE, ADVENTURES , I. ], [Down , peeped , .], [\n",
       "  , was , ! ], [Oh , Oh , ! ], [I , be , .], [\n",
       "  , went , .], [\n",
       "  , went , .], [\n",
       "  , was , . ], [First, saw , . ], [She , managed , .]]"
      ]
     },
     "execution_count": 228,
     "metadata": {},
     "output_type": "execute_result"
    }
   ],
   "source": [
    "[[doc[s.start],s.root,doc[s.end-1]] for s in doc.sents]"
   ]
  },
  {
   "cell_type": "markdown",
   "metadata": {},
   "source": [
    "giving spacy the raw text is not perfect. it includes the title of the chapter in the first sentence.\n",
    "\n",
    "so we can rely on the chunks to do a slightly improved job\n",
    "\n",
    "problem with my regex is that it may miss things. spacy won't, but it could include too much!"
   ]
  },
  {
   "cell_type": "code",
   "execution_count": 231,
   "metadata": {
    "collapsed": true
   },
   "outputs": [],
   "source": [
    "combined_chuncks_processed = list(map(lambda x: [x[0],x[1],nlp(x[2])],combined_chunks))"
   ]
  },
  {
   "cell_type": "code",
   "execution_count": 233,
   "metadata": {
    "collapsed": false
   },
   "outputs": [
    {
     "name": "stdout",
     "output_type": "stream",
     "text": [
      "(0, 0, \"ALICE'S ADVENTURES IN WONDERLAND\")\n",
      "[0, 0, ALICE'S ADVENTURES IN WONDERLAND]\n"
     ]
    }
   ],
   "source": [
    "print(combined_chunks[0])\n",
    "print(combined_chuncks_processed[0])"
   ]
  },
  {
   "cell_type": "code",
   "execution_count": 236,
   "metadata": {
    "collapsed": false
   },
   "outputs": [
    {
     "name": "stdout",
     "output_type": "stream",
     "text": [
      "(ALICE,)\n"
     ]
    }
   ],
   "source": [
    "print(combined_chuncks_processed[0][2].ents)"
   ]
  },
  {
   "cell_type": "code",
   "execution_count": 238,
   "metadata": {
    "collapsed": false
   },
   "outputs": [
    {
     "name": "stdout",
     "output_type": "stream",
     "text": [
      "ALICE'S ADVENTURES IN WONDERLAND\n"
     ]
    }
   ],
   "source": [
    "print(combined_chuncks_processed[0][2].text_with_ws)"
   ]
  },
  {
   "cell_type": "code",
   "execution_count": 239,
   "metadata": {
    "collapsed": false
   },
   "outputs": [
    {
     "name": "stdout",
     "output_type": "stream",
     "text": [
      "[ALICE, 'S , ADVENTURES , IN , WONDERLAND]\n"
     ]
    }
   ],
   "source": [
    "print([token for token in combined_chuncks_processed[0][2]])"
   ]
  },
  {
   "cell_type": "code",
   "execution_count": 249,
   "metadata": {
    "collapsed": false
   },
   "outputs": [
    {
     "name": "stdout",
     "output_type": "stream",
     "text": [
      "[However, , , this , bottle , was , NOT , marked , ', poison, ,, ' , so , Alice , ventured , to , taste , it, , , and , finding , it , very , nice, , , (, it , had, , , in , fact, , , a , sort , of , mixed , flavour , of , cherry, -, tart, , , custard, , , pine, -, apple, , , roast , turkey, , , toffee, , , and , hot , buttered , toast, ,, ) , she , very , soon , finished , it , off, .]\n"
     ]
    }
   ],
   "source": [
    "print([token for token in combined_chuncks_processed[20][2]])"
   ]
  },
  {
   "cell_type": "code",
   "execution_count": 248,
   "metadata": {
    "collapsed": false
   },
   "outputs": [
    {
     "name": "stdout",
     "output_type": "stream",
     "text": [
      "[However, this , bottle , was , NOT , marked , poison, so , Alice , ventured , to , taste , it, and , finding , it , very , nice, it , had, in , fact, a , sort , of , mixed , flavour , of , cherry, tart, custard, pine, apple, roast , turkey, toffee, and , hot , buttered , toast, she , very , soon , finished , it , off]\n"
     ]
    }
   ],
   "source": [
    "print([token for token in combined_chuncks_processed[20][2] if not token.is_punct])"
   ]
  },
  {
   "cell_type": "code",
   "execution_count": 250,
   "metadata": {
    "collapsed": false
   },
   "outputs": [
    {
     "name": "stdout",
     "output_type": "stream",
     "text": [
      "['However', 'this ', 'bottle ', 'was ', 'NOT ', 'marked ', 'poison', 'so ', 'Alice ', 'ventured ', 'to ', 'taste ', 'it', 'and ', 'finding ', 'it ', 'very ', 'nice', 'it ', 'had', 'in ', 'fact', 'a ', 'sort ', 'of ', 'mixed ', 'flavour ', 'of ', 'cherry', 'tart', 'custard', 'pine', 'apple', 'roast ', 'turkey', 'toffee', 'and ', 'hot ', 'buttered ', 'toast', 'she ', 'very ', 'soon ', 'finished ', 'it ', 'off']\n"
     ]
    }
   ],
   "source": [
    "print([token.text_with_ws for token in combined_chuncks_processed[20][2] if not token.is_punct])"
   ]
  },
  {
   "cell_type": "code",
   "execution_count": 241,
   "metadata": {
    "collapsed": true
   },
   "outputs": [],
   "source": [
    "a = combined_chuncks_processed[20][2][0]"
   ]
  },
  {
   "cell_type": "code",
   "execution_count": 244,
   "metadata": {
    "collapsed": false
   },
   "outputs": [
    {
     "data": {
      "text/plain": [
       "'ADV'"
      ]
     },
     "execution_count": 244,
     "metadata": {},
     "output_type": "execute_result"
    }
   ],
   "source": [
    "a.pos_"
   ]
  },
  {
   "cell_type": "code",
   "execution_count": 245,
   "metadata": {
    "collapsed": false
   },
   "outputs": [
    {
     "data": {
      "text/plain": [
       "'However'"
      ]
     },
     "execution_count": 245,
     "metadata": {},
     "output_type": "execute_result"
    }
   ],
   "source": [
    "str(a)"
   ]
  },
  {
   "cell_type": "code",
   "execution_count": 247,
   "metadata": {
    "collapsed": false
   },
   "outputs": [
    {
     "data": {
      "text/plain": [
       "'However'"
      ]
     },
     "execution_count": 247,
     "metadata": {},
     "output_type": "execute_result"
    }
   ],
   "source": [
    "a.orth_"
   ]
  },
  {
   "cell_type": "code",
   "execution_count": 251,
   "metadata": {
    "collapsed": true
   },
   "outputs": [],
   "source": [
    "chunked = get_chunks(lines)"
   ]
  },
  {
   "cell_type": "code",
   "execution_count": 252,
   "metadata": {
    "collapsed": true
   },
   "outputs": [],
   "source": [
    "chunks_nlp = list(map(lambda x: [x[0],x[1],nlp(x[2])],chunked))\n",
    "all_token_list = []\n",
    "for chunk in chunks_nlp:\n",
    "    for token in chunk[2]:\n",
    "        if not token.is_punct:\n",
    "            all_token_list.append(str(token)) # get token.orth_"
   ]
  },
  {
   "cell_type": "code",
   "execution_count": 253,
   "metadata": {
    "collapsed": false
   },
   "outputs": [
    {
     "data": {
      "text/plain": [
       "['ALICE',\n",
       " \"'S \",\n",
       " 'ADVENTURES ',\n",
       " 'IN ',\n",
       " 'WONDERLAND',\n",
       " 'Lewis ',\n",
       " 'Carroll',\n",
       " 'THE ',\n",
       " 'MILLENNIUM ',\n",
       " 'FULCRUM ']"
      ]
     },
     "execution_count": 253,
     "metadata": {},
     "output_type": "execute_result"
    }
   ],
   "source": [
    "all_token_list[:10]"
   ]
  },
  {
   "cell_type": "code",
   "execution_count": 387,
   "metadata": {
    "collapsed": true
   },
   "outputs": [],
   "source": [
    "all_token_list = []\n",
    "for chunk in chunks_nlp:\n",
    "    for token in chunk[2]:\n",
    "        if (not token.is_punct) or (str(token).rstrip() in [\",\",\";\",\"--\",\"-\",\"!\"]):\n",
    "            all_token_list.append(str(token)) # get token.orth_"
   ]
  },
  {
   "cell_type": "code",
   "execution_count": 267,
   "metadata": {
    "collapsed": false
   },
   "outputs": [
    {
     "data": {
      "text/plain": [
       "'was beginning to get very tired of sitting by her sister on the bank, and of having nothing to doonce or twice she had peeped into the book her sister was reading, but it had no pictures or conversations in it, and what is the use of a book,thought Alice without pictures or conversationsSo she was considering in her own mind as well as she could, for the hot day made her feel very sleepy and stupid, whether the pleasure of making a daisy-chain would be worth the trouble of getting up and picking the daisies, when suddenly a White Rabbit with pink eyes ran close by herThere was nothing so VERY remarkable in that; nor did Alice think it so VERY much out of the way to hear the Rabbit say to itself, Oh dear! Oh dear! I shall be late!when she thought it over afterwards, it occurred to her that she ought to have wondered at this, but at the time it all seemed quite natural; but when the Rabbit actually TOOK A WATCH OUT OF '"
      ]
     },
     "execution_count": 267,
     "metadata": {},
     "output_type": "execute_result"
    }
   ],
   "source": [
    "\"\".join(all_token_list[20:220])"
   ]
  },
  {
   "cell_type": "code",
   "execution_count": 356,
   "metadata": {
    "collapsed": false
   },
   "outputs": [],
   "source": [
    "trigram_model = dict()\n",
    "starts = list()\n",
    "# let's iterate over sentences\n",
    "for c in chunks_nlp:\n",
    "    for sent in c[2].sents:\n",
    "        sent_tokens = [t for t in sent if (not t.is_punct or str(t).rstrip() == \",\")]\n",
    "        if len(sent_tokens) < 2:\n",
    "            continue\n",
    "        # print(sent_tokens)\n",
    "        i = 0\n",
    "        starts.append((str(sent_tokens[i]).rstrip()+ \" \" +str(sent_tokens[i+1]).rstrip()))\n",
    "        for i in range(len(sent_tokens)-2):\n",
    "            bigram = (str(sent_tokens[i]).rstrip()+ \" \" +str(sent_tokens[i+1]).rstrip())\n",
    "            nextg = str(sent_tokens[i+2]).rstrip()\n",
    "            if i == len(sent_tokens)-3:\n",
    "                nextg += \".\"\n",
    "            if bigram not in trigram_model:\n",
    "                trigram_model[bigram] = {nextg: 1}\n",
    "            else:\n",
    "                if nextg in trigram_model[bigram]:\n",
    "                    trigram_model[bigram][nextg] += 1\n",
    "                else:\n",
    "                    trigram_model[bigram][nextg] = 1\n",
    "trigram_model_flat = dict()\n",
    "for bg in trigram_model:\n",
    "    words = [w for w in trigram_model[bg]]\n",
    "    ps = [trigram_model[bg][w] for w in words]\n",
    "    trigram_model_flat[bg] = [words,np.array(ps)/np.array(ps).sum()]"
   ]
  },
  {
   "cell_type": "code",
   "execution_count": 364,
   "metadata": {
    "collapsed": false
   },
   "outputs": [
    {
     "data": {
      "text/plain": [
       "{'but': 1, 'nothing': 2, 'there': 1, 'to': 3, 'very': 3, 'with': 1}"
      ]
     },
     "execution_count": 364,
     "metadata": {},
     "output_type": "execute_result"
    }
   ],
   "source": [
    "trigram_model[\"Alice said\"]"
   ]
  },
  {
   "cell_type": "code",
   "execution_count": 365,
   "metadata": {
    "collapsed": false
   },
   "outputs": [
    {
     "data": {
      "text/plain": [
       "[['whose',\n",
       "  'because',\n",
       "  'jumping',\n",
       "  'always',\n",
       "  'or',\n",
       "  'as',\n",
       "  'quite',\n",
       "  'in',\n",
       "  'she',\n",
       "  'and',\n",
       "  'it',\n",
       "  'they',\n",
       "  'the',\n",
       "  'a',\n",
       "  'shall',\n",
       "  'we',\n",
       "  'rather',\n",
       "  'Have',\n",
       "  'but',\n",
       "  'looking',\n",
       "  'that',\n",
       "  'how',\n",
       "  'so',\n",
       "  'thinking',\n",
       "  'to',\n",
       "  'with',\n",
       "  'were',\n",
       "  'seriously',\n",
       "  'every',\n",
       "  'when',\n",
       "  'very',\n",
       "  'timidly',\n",
       "  'swallowing',\n",
       "  'who',\n",
       "  'Well',\n",
       "  'I',\n",
       "  'feeling',\n",
       "  'surprised',\n",
       "  'flinging'],\n",
       " array([ 0.01282051,  0.01282051,  0.01282051,  0.01282051,  0.01282051,\n",
       "         0.08974359,  0.02564103,  0.03846154,  0.03846154,  0.16666667,\n",
       "         0.03846154,  0.02564103,  0.01282051,  0.05128205,  0.01282051,\n",
       "         0.01282051,  0.02564103,  0.01282051,  0.01282051,  0.01282051,\n",
       "         0.02564103,  0.01282051,  0.01282051,  0.01282051,  0.02564103,\n",
       "         0.01282051,  0.01282051,  0.01282051,  0.01282051,  0.01282051,\n",
       "         0.03846154,  0.01282051,  0.01282051,  0.07692308,  0.01282051,\n",
       "         0.01282051,  0.01282051,  0.01282051,  0.01282051])]"
      ]
     },
     "execution_count": 365,
     "metadata": {},
     "output_type": "execute_result"
    }
   ],
   "source": [
    "trigram_model_flat[\"Alice ,\"]"
   ]
  },
  {
   "cell_type": "code",
   "execution_count": 377,
   "metadata": {
    "collapsed": false
   },
   "outputs": [],
   "source": [
    "def gen_text(model,seeds,n_words=500):\n",
    "    i = 2\n",
    "    result = np.random.choice(seeds).split(\" \")\n",
    "    while i<n_words:\n",
    "        # print(result)\n",
    "        while \" \".join(result[-2:]) not in trigram_model_flat:\n",
    "            # result[-1] += \".\"\n",
    "            result.extend(np.random.choice(seeds).split(\" \"))\n",
    "        result.append(np.random.choice(trigram_model_flat[\" \".join(result[-2:])][0],p=trigram_model_flat[\" \".join(result[-2:])][1]))\n",
    "        i+=1\n",
    "    return result"
   ]
  },
  {
   "cell_type": "code",
   "execution_count": 367,
   "metadata": {
    "collapsed": false
   },
   "outputs": [
    {
     "data": {
      "text/plain": [
       "\"But then , thought Alice to herself , after all --SAID I COULD NOT SWIM-- you ca n't go , said the Dormouse began in a minute. And how odd the directions will look. It was the Rabbit 's voice along--'Catch him , I should be like , said the Mouse in the newspapers , at the top of it. The question is , said the Caterpillar. I 'd better ask HER about it. The Queen 's absence , and yet it was n't very civil of you , sooner or later. While she was considering in her life , and that 's a fact. Alice kept her waiting. I ca n't get out of the fact. As for pulling me out of the evening , beautiful Soup. This was such a rule at processions and besides , that finished the first witness , said Alice , and went stamping about , reminding her very much at first but she stopped hastily , for the rest were quite silent for a baby altogether Alice did n't think , said the Queen , who was sitting on a little worried. Sure , it 'll never go THERE again said Alice , who had been to her in such a nice little dog near our house I should say With what porpoise. You do n't seem to put everything upon Bill. And the muscular strength , which remained some time in silence at last she spread out her hand in hand , in chains , with the dream of Wonderland of long ago anything had happened. --as far out to be nothing but the great wonder is , said Alice , with their hands and feet at the flowers and the Queen say only yesterday you deserved to be two people. Here the Dormouse said-- the Hatter , and , after all it might happen any minute , while the Mock Turtle nine the next witness was the Cat again , to be seen--everything seemed to be sure but I shall be a very long silence after this , as it 's coming down. In THAT direction , the Duchess said to Alice a good deal on where you want to go.  Wow wow wow. She 'll get me executed , as the Dormouse go on with the bread and-butter. So they could n't guess of what work it would be like , said the King sharply Do you take me for his housemaid , she pictured to herself , after all. Yes , but it was quite silent for a rabbit. She waited for a minute , nurse. Begin at the house before she had tired herself out with trying , the Queen put on your shoes and stockings for you said the Dodo. How CAN I have n't opened it yet , before Alice could see it trot away quietly into the roof of the Mock Turtle , suddenly dropping his voice , What HAVE you been doing here. It was high time to begin with , the Gryphon added Come , there 's no pleasing them. Alice remained looking thoughtfully at the other , saying to herself , whenever I eat or drink anything so I should think you 'd like it , said the Caterpillar. Ugh said the King.\""
      ]
     },
     "execution_count": 367,
     "metadata": {},
     "output_type": "execute_result"
    }
   ],
   "source": [
    "a = gen_text(trigram_model_flat,starts)\n",
    "\" \".join(a)"
   ]
  },
  {
   "cell_type": "code",
   "execution_count": 368,
   "metadata": {
    "collapsed": true
   },
   "outputs": [],
   "source": [
    "b = np.random.shuffle(all_token_list)"
   ]
  },
  {
   "cell_type": "code",
   "execution_count": 373,
   "metadata": {
    "collapsed": false
   },
   "outputs": [
    {
     "data": {
      "text/plain": [
       "\"the  but  little  --but  all  the  ,  with I  flowers  that  small  a  what  the  he  could  queer ran  it  near  , and  altogether remain  A  with  somebody ,  gardeners the  thought  your  I  the  ,  door head  she  me hardly  of  is  were  said  the  - them  she  Alice  I But  one  you  nice  large  use  walked  what  anything  's  and It  many  I  ,  the  ,  execution ,  she  by  of  came  I  witness  , turned  she  upon  suddenly  took  While  , if  I  ,  hear  --well  goose mouth  , do  replied  the  of  play  would SAID  seem  ,  of  business  shrink  's  she  flower if--if  the  Hare the  so  Alice  of  ,  a  - very  the  hear  reason to  whispered  BEE it thought  by  I  large  not  ,  your  dream  on  Herald SOUP she  I  some  to  her  the  all  of  of  of  guess Perhaps  tell  to  the  answer  I-- now  nibbled  ,  must  folded  ,  going  himself  taught  centre  wo Northumbria-- hanging  can  you  a  went  a  said  ! said all  cats do before  conversation had  of  jury baby  be  Run  will  again three that herself  to  !  the  Alice  ! While  the  girl  neighbour  very  growing  they  want  ,  across  the  ,  whiting round  little  ,  with  of  a  indeed  went  the  on  tell  offended  only  forgotten  to  to  ,  tell  n't  wo see  the  hardly  Turtle What  ,  on  ,  into  three  him we  ten  appear you  and  at  I  and  which  thought  makes  eyes  I it and  the  looked  Is  n't  baby disappeared ,  an  goes  of  you all  talking  ;  herself  that  she  in  bleeds THAT No  in  - and-butter how  I  wash  ,  went  a  'll  way--never  kind  at  with  As  Dodo  ,  fear  officers  been  off  the  opening  it  ,  said  to  ,  removed at  said  ,  went  muchness--you  for  and  time  court what  very  will  to  among  Queen  Turtle  things  I so  Pigeon herself  lie  me the  naturedly  the  changed  never HER  ,  missed  but  hurry The  March--just  the  said  been      beak--  of  , the  now  whole  ,  Dodo opportunity  to to  you--are  Cat others a  dropped  ! waited  you  little  hands  no  ,  tree as  is  pressing  was  've  came  Hatter me  was  BE  and  there  the  only  the  a  with  she  the  hit  to  but  late  that  that thought  when  thunderstorm luckily  write  do were  would  Alice  ,  an  you down  after  ,  be  and  Rabbit  and  get Queen NEVER  bowed  shedding  on  Alice I  the  go  to  cucumber mournfully was  of  as  better  fly wish  it  I  her  snappishly - ,  and  jury  little  a  Hare met  size n't  very  dear did  after  kid  very  , manage  so  and  all  time 's  were  said  a  I saw  dear was  nurse--and  little  tiptoe One  Alice eleventh  drop  've  want  time  you  easy  as  what  to  pair  disappeared ,  business feel  that again my  Alice 'm  for  a  loud she  its  same would  One  I  Alice enough \""
      ]
     },
     "execution_count": 373,
     "metadata": {},
     "output_type": "execute_result"
    }
   ],
   "source": [
    "\" \".join(all_token_list[:500])"
   ]
  },
  {
   "cell_type": "code",
   "execution_count": 374,
   "metadata": {
    "collapsed": false
   },
   "outputs": [
    {
     "data": {
      "text/plain": [
       "552"
      ]
     },
     "execution_count": 374,
     "metadata": {},
     "output_type": "execute_result"
    }
   ],
   "source": [
    "len(a)"
   ]
  },
  {
   "cell_type": "code",
   "execution_count": 378,
   "metadata": {
    "collapsed": false
   },
   "outputs": [
    {
     "data": {
      "text/plain": [
       "30569"
      ]
     },
     "execution_count": 378,
     "metadata": {},
     "output_type": "execute_result"
    }
   ],
   "source": [
    "len(all_token_list)"
   ]
  },
  {
   "cell_type": "code",
   "execution_count": 379,
   "metadata": {
    "collapsed": true
   },
   "outputs": [],
   "source": [
    "a = gen_text(trigram_model_flat,starts,n_words=len(all_token_list))"
   ]
  },
  {
   "cell_type": "code",
   "execution_count": 380,
   "metadata": {
    "collapsed": false
   },
   "outputs": [
    {
     "data": {
      "text/plain": [
       "33275"
      ]
     },
     "execution_count": 380,
     "metadata": {},
     "output_type": "execute_result"
    }
   ],
   "source": [
    "len(a)"
   ]
  },
  {
   "cell_type": "code",
   "execution_count": 381,
   "metadata": {
    "collapsed": true
   },
   "outputs": [],
   "source": [
    "b = [x.rstrip(\" \").rstrip(\".\") for x in a if not x.rstrip(\" \") == \",\"]"
   ]
  },
  {
   "cell_type": "code",
   "execution_count": 382,
   "metadata": {
    "collapsed": false
   },
   "outputs": [
    {
     "data": {
      "text/plain": [
       "30461"
      ]
     },
     "execution_count": 382,
     "metadata": {},
     "output_type": "execute_result"
    }
   ],
   "source": [
    "len(b)"
   ]
  },
  {
   "cell_type": "code",
   "execution_count": 390,
   "metadata": {
    "collapsed": false
   },
   "outputs": [
    {
     "data": {
      "text/plain": [
       "\"it was all about for a minute or two it 's generally a ridge or furrow in the middle being fast asleep Alice looked very anxiously into its eyes again so she began O Mouse who looked at Alice who was peeping anxiously into her head Will you said the March Hare took the hookah into its mouth open gazing up into a tidy little room with a knife it was an immense length of neck which remained some time with great emphasis looking as solemn as she fell past it And who are THESE said the sage as he\""
      ]
     },
     "execution_count": 390,
     "metadata": {},
     "output_type": "execute_result"
    }
   ],
   "source": [
    "\" \".join(b[500:600])"
   ]
  },
  {
   "cell_type": "code",
   "execution_count": 389,
   "metadata": {
    "collapsed": false
   },
   "outputs": [
    {
     "data": {
      "text/plain": [
       "\"fear of killing somebody, so managed to put it into one of the cupboards as she fell past itWell!thought Alice to herself, after such a fall as this, I shall think nothing of tumbling down stairs! How brave they'll all think me at home! Why, I wouldn't say anything about it, even if I fell off the top of the house!Which was very likely trueDown, down, downWould the fall NEVER come to an end! I wonder how many miles I've \""
      ]
     },
     "execution_count": 389,
     "metadata": {},
     "output_type": "execute_result"
    }
   ],
   "source": [
    "\"\".join(all_token_list[500:600])"
   ]
  },
  {
   "cell_type": "code",
   "execution_count": null,
   "metadata": {
    "collapsed": true
   },
   "outputs": [],
   "source": []
  }
 ],
 "metadata": {
  "kernelspec": {
   "display_name": "Python 3",
   "language": "python",
   "name": "python3"
  },
  "language_info": {
   "codemirror_mode": {
    "name": "ipython",
    "version": 3
   },
   "file_extension": ".py",
   "mimetype": "text/x-python",
   "name": "python",
   "nbconvert_exporter": "python",
   "pygments_lexer": "ipython3",
   "version": "3.5.0"
  }
 },
 "nbformat": 4,
 "nbformat_minor": 0
}
