{
 "cells": [
  {
   "cell_type": "markdown",
   "metadata": {},
   "source": [
    "Play around with spaCy, tokenize the labMT dictionary to see if using labMT on a spaCy-tokenized document makes sense\n",
    "----"
   ]
  },
  {
   "cell_type": "code",
   "execution_count": 1,
   "metadata": {
    "collapsed": false
   },
   "outputs": [],
   "source": [
    "from os import listdir, mkdir\n",
    "from os.path import isfile, join, isdir\n",
    "from json import loads\n",
    "from re import findall,UNICODE\n",
    "import sys\n",
    "sys.path.append(\"/Users/andyreagan/tools/python\")\n",
    "from kitchentable.dogtoys import *\n",
    "from labMTsimple.labMTsimple.speedy import LabMT\n",
    "my_LabMT = LabMT()\n",
    "from labMTsimple.labMTsimple.storyLab import *\n",
    "import numpy as np\n",
    "from bookclass import Book_raw_data\n",
    "import pickle\n",
    "\n",
    "import os\n",
    "sys.path.append('/Users/andyreagan/projects/2014/09-books/database')\n",
    "os.environ.setdefault('DJANGO_SETTINGS_MODULE','gutenbergdb.settings')\n",
    "import django\n",
    "django.setup()\n",
    "\n",
    "from library.models import *\n",
    "\n",
    "from tqdm import tqdm"
   ]
  },
  {
   "cell_type": "code",
   "execution_count": 2,
   "metadata": {
    "collapsed": true
   },
   "outputs": [],
   "source": [
    "from spacy.en import English\n",
    "# Model not installed. Please run 'python -m spacy.en.download' to install latest compatible model.\n",
    "from spacy.parts_of_speech import NAMES"
   ]
  },
  {
   "cell_type": "code",
   "execution_count": 3,
   "metadata": {
    "collapsed": true
   },
   "outputs": [],
   "source": [
    "nlp = English()"
   ]
  },
  {
   "cell_type": "code",
   "execution_count": 4,
   "metadata": {
    "collapsed": false
   },
   "outputs": [],
   "source": [
    "a = \" \".join(my_LabMT.wordlist)"
   ]
  },
  {
   "cell_type": "code",
   "execution_count": 5,
   "metadata": {
    "collapsed": true
   },
   "outputs": [],
   "source": [
    "doc = nlp(a)"
   ]
  },
  {
   "cell_type": "code",
   "execution_count": 6,
   "metadata": {
    "collapsed": false
   },
   "outputs": [
    {
     "data": {
      "text/plain": [
       "laughter "
      ]
     },
     "execution_count": 6,
     "metadata": {},
     "output_type": "execute_result"
    }
   ],
   "source": [
    "doc[0]"
   ]
  },
  {
   "cell_type": "code",
   "execution_count": 7,
   "metadata": {
    "collapsed": false
   },
   "outputs": [
    {
     "data": {
      "text/plain": [
       "10502"
      ]
     },
     "execution_count": 7,
     "metadata": {},
     "output_type": "execute_result"
    }
   ],
   "source": [
    "len(doc)"
   ]
  },
  {
   "cell_type": "code",
   "execution_count": 8,
   "metadata": {
    "collapsed": false,
    "scrolled": false
   },
   "outputs": [
    {
     "name": "stdout",
     "output_type": "stream",
     "text": [
      "b-day [b, -, day]\n",
      "mother's [mother, 's]\n",
      "x-mas [x, -, mas]\n",
      "friend's [friend, 's]\n",
      "valentine's [valentine, 's]\n",
      "great-grandchildren [great, -, grandchildren]\n",
      "children's [children, 's]\n",
      "woman's [woman, 's]\n",
      "dad's [dad, 's]\n",
      "great-grandfather [great, -, grandfather]\n",
      "#music [#, music]\n",
      "great-grandmother [great, -, grandmother]\n",
      "mom's [mom, 's]\n",
      "father's [father, 's]\n",
      "book's [book, 's]\n",
      "child's [child, 's]\n",
      "e-mail [e, -, mail]\n",
      "family's [family, 's]\n",
      "party's [party, 's]\n",
      "80's [80, 's]\n",
      "women's [women, 's]\n",
      "bridegroom's [bridegroom, 's]\n",
      "t-shirt [t, -, shirt]\n",
      "eat-in [eat, -, in]\n",
      "university's [university, 's]\n",
      "v-day [v, -, day]\n",
      "life's [life, 's]\n",
      "tomorrow's [tomorrow, 's]\n",
      "america's [america, 's]\n",
      "1980's [1980, 's]\n",
      "fund-raising [fund, -, raising]\n",
      "1990's [1990, 's]\n",
      "king's [king, 's]\n",
      "today's [today, 's]\n",
      "father-in-law [father, -, in-law]\n",
      "tonight's [tonight, 's]\n",
      "everyone's [everyone, 's]\n",
      "world's [world, 's]\n",
      "nation's [nation, 's]\n",
      "1970's [1970, 's]\n",
      "blu-ray [blu, -, ray]\n",
      "co-op [co, -, op]\n",
      "daughter-in-law [daughter, -, in-law]\n",
      "city's [city, 's]\n",
      "brother-in-law [brother, -, in-law]\n",
      "country's [country, 's]\n",
      "front-page [front, -, page]\n",
      "japan's [japan, 's]\n",
      "10pm [10, pm]\n",
      "7-9pm [7, -, 9pm]\n",
      "sister-in-law [sister, -, in-law]\n",
      "teen-agers [teen, -, agers]\n",
      "6pm [6, pm]\n",
      "god's [god, 's]\n",
      "group's [group, 's]\n",
      "master's [master, 's]\n",
      "men's [men, 's]\n",
      "7pm [7, pm]\n",
      "i'm [i, 'm]\n",
      "team's [team, 's]\n",
      "9pm [9, pm]\n",
      "1960's [1960, 's]\n",
      "5pm [5, pm]\n",
      "#jobs [#, jobs]\n",
      "#travel [#, travel]\n",
      "8pm [8, pm]\n",
      "obama's [obama, 's]\n",
      "people's [people, 's]\n",
      "son-in-law [son, -, in-law]\n",
      "1950's [1950, 's]\n",
      "night's [night, 's]\n",
      "we've [we, 've]\n",
      "#iphone [#, iphone]\n",
      "i've [i, 've]\n",
      "long-term [long, -, term]\n",
      "man's [man, 's]\n",
      "we'll [we, 'll]\n",
      "#musicmonday [#, musicmonday]\n",
      "jay-z [jay, -, z]\n",
      "she's [she, 's]\n",
      "we're [we, 're]\n",
      "11am [11, am]\n",
      "he'll [he, 'll]\n",
      "#nowplaying [#, nowplaying]\n",
      "let's [let, 's]\n",
      "i'd [i, 'd]\n",
      "10am [10, am]\n",
      "state's [state, 's]\n",
      "treasury's [treasury, 's]\n",
      "you'll [you, 'll]\n",
      "they'll [they, 'll]\n",
      "#letsbehonest [#, letsbehonest]\n",
      "i'll [i, 'll]\n",
      "yesterday's [yesterday, 's]\n",
      "we'd [we, 'd]\n",
      "you'd [you, 'd]\n",
      "#news [#, news]\n",
      "they're [they, 're]\n",
      "someone's [someone, 's]\n",
      "two-year [two, -, year]\n",
      "#fact [#, fact]\n",
      "*estimated [*, estimated]\n",
      "one's [one, 's]\n",
      "president's [president, 's]\n",
      "year's [year, 's]\n",
      "you're [you, 're]\n",
      "that's [that, 's]\n",
      "york's [york, 's]\n",
      "clinton's [clinton, 's]\n",
      "week's [week, 's]\n",
      "#followfriday [#, followfriday]\n",
      "there's [there, 's]\n",
      "real-estate [real, -, estate]\n",
      "agency's [agency, 's]\n",
      "john's [john, 's]\n",
      "mayor's [mayor, 's]\n",
      "shes [she, s]\n",
      "china's [china, 's]\n",
      "governor's [governor, 's]\n",
      "#tinychat [#, tinychat]\n",
      "after-tax [after, -, tax]\n",
      "she'll [she, 'll]\n",
      "2pm [2, pm]\n",
      "it'll [it, 'll]\n",
      "#fb [#, fb]\n",
      "c-after [c, -, after]\n",
      "here's [here, 's]\n",
      "he's [he, 's]\n",
      "mother-in-law [mother, -, in-law]\n",
      "thats [that, s]\n",
      "youre [you, re]\n",
      "#ohjustlikeme [#, ohjustlikeme]\n",
      "c-included [c, -, included]\n",
      "department's [department, 's]\n",
      "five-year [five, -, year]\n",
      "one-year [one, -, year]\n",
      "'the [', the]\n",
      "b-included [b, -, included]\n",
      "theyre [they, re]\n",
      "#quote [#, quote]\n",
      "c-net [c, -, net]\n",
      "im [i, m]\n",
      "israel's [israel, 's]\n",
      "ive [i, ve]\n",
      "you've [you, 've]\n",
      "'cause [', cause]\n",
      "b-net [b, -, net]\n",
      "where's [where, 's]\n",
      "who's [who, 's]\n",
      "they'd [they, 'd]\n",
      "they've [they, 've]\n",
      "three-year [three, -, year]\n",
      "#tweetmyjobs [#, tweetmyjobs]\n",
      "company's [company, 's]\n",
      "op-ed [op, -, ed]\n",
      "[a1] [[, a1, ]]\n",
      "he'd [he, 'd]\n",
      "youll [you, ll]\n",
      "#in2010 [#, in2010]\n",
      "it's [it, 's]\n",
      "moody's [moody, 's]\n",
      "#random [#, random]\n",
      "b-after [b, -, after]\n",
      "how's [how, 's]\n",
      "hows [how, s]\n",
      "#omgfacts [#, omgfacts]\n",
      "administration's [administration, 's]\n",
      "hes [he, s]\n",
      "it'd [it, 'd]\n",
      "one-time [one, -, time]\n",
      "what's [what, 's]\n",
      "whos [who, s]\n",
      "#p2 [#, p2]\n",
      "re-election [re, -, election]\n",
      "whats [what, s]\n",
      "would've [would, 've]\n",
      "b-includes [b, -, includes]\n",
      "#tcot [#, tcot]\n",
      "'i [', i]\n",
      "government's [government, 's]\n",
      "patient's [patient, 's]\n",
      "#ff [#, ff]\n",
      "#mm [#, mm]\n",
      "**municipal [*, *, municipal]\n",
      "ol' [ol, ']\n",
      "short-term [short, -, term]\n",
      "year-ago [year, -, ago]\n",
      "c-includes [c, -, includes]\n",
      "#idothat2 [#, idothat2]\n",
      "#epicpetwars [#, epicpetwars]\n",
      "#formspringme [#, formspringme]\n",
      "#shoutout [#, shoutout]\n",
      "ima [i, ma]\n",
      "6am [6, am]\n",
      "isn't [is, n't]\n",
      "court's [court, 's]\n",
      "#retweetthisif [#, retweetthisif]\n",
      "#haiti [#, haiti]\n",
      "3am [3, am]\n",
      "arent [are, nt]\n",
      "hadn't [had, n't]\n",
      "so-called [so, -, called]\n",
      "wasn't [was, n't]\n",
      "4am [4, am]\n",
      "#iranelection [#, iranelection]\n",
      "bush's [bush, 's]\n",
      "havent [have, nt]\n",
      "5am [5, am]\n",
      "aren't [are, n't]\n",
      "wont [wo, nt]\n",
      "aint [ai, nt]\n",
      "hasn't [has, n't]\n",
      "weren't [were, n't]\n",
      "ain't [ai, n't]\n",
      "didn't [did, n't]\n",
      "didnt [did, nt]\n",
      "isnt [is, nt]\n",
      "doesnt [does, nt]\n",
      "wouldnt [would, nt]\n",
      "shouldn't [should, n't]\n",
      "haven't [have, n't]\n",
      "wouldn't [would, n't]\n",
      "critic's [critic, 's]\n",
      "don't [do, n't]\n",
      "dont [do, nt]\n",
      "wasnt [was, nt]\n",
      "won't [wo, n't]\n",
      "doesn't [does, n't]\n",
      "couldnt [could, nt]\n",
      "poor's [poor, 's]\n",
      "cant [ca, nt]\n",
      "can't [ca, n't]\n",
      "cannot [can, not]\n",
      "couldn't [could, n't]\n",
      "#fail [#, fail]\n"
     ]
    }
   ],
   "source": [
    "i = 0\n",
    "for word in my_LabMT.wordlist:\n",
    "    doc = nlp(word)\n",
    "    if len(doc) > 1:\n",
    "        i+=1\n",
    "        print(word,[x for x in doc])"
   ]
  },
  {
   "cell_type": "code",
   "execution_count": 9,
   "metadata": {
    "collapsed": false
   },
   "outputs": [
    {
     "data": {
      "text/plain": [
       "235"
      ]
     },
     "execution_count": 9,
     "metadata": {},
     "output_type": "execute_result"
    }
   ],
   "source": [
    "i"
   ]
  }
 ],
 "metadata": {
  "kernelspec": {
   "display_name": "Python 3",
   "language": "python",
   "name": "python3"
  },
  "language_info": {
   "codemirror_mode": {
    "name": "ipython",
    "version": 3
   },
   "file_extension": ".py",
   "mimetype": "text/x-python",
   "name": "python",
   "nbconvert_exporter": "python",
   "pygments_lexer": "ipython3",
   "version": "3.5.0"
  }
 },
 "nbformat": 4,
 "nbformat_minor": 0
}
