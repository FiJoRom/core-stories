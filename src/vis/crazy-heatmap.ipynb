{
 "cells": [
  {
   "cell_type": "markdown",
   "metadata": {},
   "source": [
    "Mode decomposition of emotional arcs!\n",
    "----------------------------------------------\n",
    "\n",
    "This second version uses only the linear algebra version of the SVD."
   ]
  },
  {
   "cell_type": "code",
   "execution_count": 3,
   "metadata": {
    "collapsed": false
   },
   "outputs": [],
   "source": [
    "from os import listdir\n",
    "from os.path import isfile, join\n",
    "from json import loads\n",
    "from re import findall,UNICODE\n",
    "import sys\n",
    "sys.path.append(\"/Users/andyreagan/tools/python\")\n",
    "from kitchentable.dogtoys import *\n",
    "from labMTsimple.labMTsimple.speedy import LabMT\n",
    "my_LabMT = LabMT()\n",
    "from labMTsimple.labMTsimple.storyLab import *\n",
    "import numpy as np\n",
    "from database.bookclass import Book_raw_data\n",
    "import pickle\n",
    "\n",
    "import os\n",
    "sys.path.append('/Users/andyreagan/projects/2014/09-books/database')\n",
    "os.environ.setdefault('DJANGO_SETTINGS_MODULE','gutenbergdb.settings')\n",
    "import django\n",
    "django.setup()\n",
    "\n",
    "from library.models import *\n",
    "\n",
    "from tqdm import tqdm"
   ]
  },
  {
   "cell_type": "code",
   "execution_count": 100,
   "metadata": {
    "collapsed": false
   },
   "outputs": [],
   "source": [
    "# all our essentials\n",
    "from matplotlib import rc,rcParams\n",
    "from matplotlib.colors import Colormap\n",
    "rc('font', family='sans-serif') \n",
    "rc('font', serif='Helvetica Neue')\n",
    "rc('text', usetex='false')\n",
    "\n",
    "rc('font', family='serif')\n",
    "rc('font', family='cmr10')\n",
    "rc('text', usetex='true')\n",
    "# this should accomplish the same thing\n",
    "rcParams['text.usetex'] = True\n",
    "rcParams['text.latex.preamble'] = r'\\usepackage{hyperref}'\n",
    "rcParams['text.latex.unicode'] = True\n",
    "\n",
    "rcParams.update({'font.size': 12})\n",
    "import matplotlib.pyplot as plt\n",
    "%matplotlib inline\n",
    "\n",
    "# import matplotlib\n",
    "# matplotlib.use(\"pgf\")\n",
    "# pgf_with_custom_preamble = {\n",
    "#     \"text.usetex\": True,\n",
    "#     \"text.latex.unicode\": True,\n",
    "#     \"pgf.preamble\": [\n",
    "#         r\"\\usepackage{hyperref}\"\n",
    "#         ]\n",
    "# }\n",
    "# matplotlib.rcParams.update(pgf_with_custom_preamble)\n",
    "# matplotlib.rcParams.update({'font.size': 12})\n",
    "# from matplotlib import pyplot as plt"
   ]
  },
  {
   "cell_type": "code",
   "execution_count": 5,
   "metadata": {
    "collapsed": false
   },
   "outputs": [
    {
     "name": "stdout",
     "output_type": "stream",
     "text": [
      "136\n"
     ]
    }
   ],
   "source": [
    "q = Book.objects.filter(exclude=False,length__gt=10000,length__lte=200000,\n",
    "                        downloads__gte=150,numUniqWords__gt=1000,numUniqWords__lt=18000,lang_code_id=0)\n",
    "q = Book.objects.filter(exclude=False,length__gt=20000,length__lte=100000,\n",
    "                        downloads__gte=500,lang_code_id=0,locc_with_P=True)\n",
    "print(len(q))"
   ]
  },
  {
   "cell_type": "code",
   "execution_count": null,
   "metadata": {
    "collapsed": true
   },
   "outputs": [],
   "source": [
    "bins_time = 7"
   ]
  },
  {
   "cell_type": "code",
   "execution_count": 6,
   "metadata": {
    "collapsed": false
   },
   "outputs": [
    {
     "name": "stderr",
     "output_type": "stream",
     "text": [
      "100%|██████████| 136/136 [00:12<00:00, 10.64it/s]"
     ]
    },
    {
     "name": "stdout",
     "output_type": "stream",
     "text": [
      "(136, 7)\n"
     ]
    },
    {
     "name": "stderr",
     "output_type": "stream",
     "text": [
      "\n"
     ]
    }
   ],
   "source": [
    "use_cache = True\n",
    "version = \"P-20K-100K-500-7pt\"\n",
    "if isfile(\"data/gutenberg/timeseries-matrix-cache-{}.p\".format(version)) and use_cache:\n",
    "    big_matrix = pickle.load(open(\"data/gutenberg/timeseries-matrix-cache-{}.p\".format(version),\"rb\"))\n",
    "else:\n",
    "    # load all of the timeseries into a matrix\n",
    "    big_matrix = np.ones([len(q),7])\n",
    "    # big_matrix_mean0 = np.ones(big_matrix.shape)\n",
    "    stop_val = 1.0\n",
    "    \n",
    "    for i in tqdm(range(len(q))):\n",
    "        b = q[i]\n",
    "        b_data = Book_raw_data(b)\n",
    "        a = b_data.chopper_sliding(my_LabMT,num_points=bins_time,stop_val=stop_val,use_cache=True)\n",
    "        big_matrix[i,:] = b_data.timeseries\n",
    "    print(big_matrix.shape)\n",
    "    pickle.dump(big_matrix,open(\"data/gutenberg/timeseries-matrix-cache-{}.p\".format(version),\"wb\"),pickle.HIGHEST_PROTOCOL)"
   ]
  },
  {
   "cell_type": "code",
   "execution_count": 9,
   "metadata": {
    "collapsed": false
   },
   "outputs": [],
   "source": [
    "assert len(q) == big_matrix.shape[0]"
   ]
  },
  {
   "cell_type": "code",
   "execution_count": 142,
   "metadata": {
    "collapsed": false
   },
   "outputs": [
    {
     "name": "stdout",
     "output_type": "stream",
     "text": [
      "[5.3816316736652672, 6.1718978102189777]\n"
     ]
    }
   ],
   "source": [
    "abs_range = [big_matrix.min(),big_matrix.max()]\n",
    "bins_vert = 7\n",
    "\n",
    "print(abs_range)"
   ]
  },
  {
   "cell_type": "code",
   "execution_count": 143,
   "metadata": {
    "collapsed": true
   },
   "outputs": [],
   "source": [
    "# now let's go replace big_matrix with entries 0-6"
   ]
  },
  {
   "cell_type": "code",
   "execution_count": 144,
   "metadata": {
    "collapsed": false
   },
   "outputs": [],
   "source": [
    "coarse_grained = np.zeros(big_matrix.shape)"
   ]
  },
  {
   "cell_type": "code",
   "execution_count": 145,
   "metadata": {
    "collapsed": false
   },
   "outputs": [
    {
     "data": {
      "text/plain": [
       "(136, 7)"
      ]
     },
     "execution_count": 145,
     "metadata": {},
     "output_type": "execute_result"
    }
   ],
   "source": [
    "coarse_grained.shape"
   ]
  },
  {
   "cell_type": "code",
   "execution_count": 146,
   "metadata": {
    "collapsed": false
   },
   "outputs": [],
   "source": [
    "def find_bin_i(bins,x):\n",
    "    j = 0\n",
    "    while x >= bins[j] and j<len(bins)-1:\n",
    "        j+=1\n",
    "    return j-1\n",
    "def find_bin_map(bins):\n",
    "    return lambda x: find_bin_i(bins,x)\n",
    "# damnit non functional"
   ]
  },
  {
   "cell_type": "code",
   "execution_count": 147,
   "metadata": {
    "collapsed": false
   },
   "outputs": [],
   "source": [
    "bins = np.linspace(abs_range[0],abs_range[1],num=bins_vert+1)"
   ]
  },
  {
   "cell_type": "code",
   "execution_count": 148,
   "metadata": {
    "collapsed": false
   },
   "outputs": [
    {
     "data": {
      "text/plain": [
       "array([ 5.38163167,  5.49452684,  5.607422  ,  5.72031716,  5.83321232,\n",
       "        5.94610749,  6.05900265,  6.17189781])"
      ]
     },
     "execution_count": 148,
     "metadata": {},
     "output_type": "execute_result"
    }
   ],
   "source": [
    "bins"
   ]
  },
  {
   "cell_type": "code",
   "execution_count": 149,
   "metadata": {
    "collapsed": false
   },
   "outputs": [],
   "source": [
    "for i in range(len(q)):\n",
    "    coarse_grained[i,:] = list(map(lambda x: find_bin_i(bins,x),big_matrix[i,:]))"
   ]
  },
  {
   "cell_type": "code",
   "execution_count": 150,
   "metadata": {
    "collapsed": false
   },
   "outputs": [
    {
     "data": {
      "text/plain": [
       "array([[ 3.,  3.,  3.,  3.,  4.,  3.,  4.],\n",
       "       [ 4.,  3.,  3.,  3.,  4.,  3.,  4.],\n",
       "       [ 4.,  2.,  3.,  3.,  2.,  2.,  4.],\n",
       "       [ 1.,  3.,  5.,  4.,  4.,  1.,  4.],\n",
       "       [ 2.,  3.,  6.,  5.,  4.,  2.,  4.],\n",
       "       [ 6.,  5.,  5.,  6.,  6.,  6.,  5.],\n",
       "       [ 5.,  4.,  5.,  3.,  4.,  5.,  4.],\n",
       "       [ 5.,  4.,  4.,  3.,  2.,  3.,  3.],\n",
       "       [ 3.,  2.,  2.,  1.,  1.,  2.,  3.],\n",
       "       [ 3.,  2.,  1.,  2.,  2.,  2.,  2.]])"
      ]
     },
     "execution_count": 150,
     "metadata": {},
     "output_type": "execute_result"
    }
   ],
   "source": [
    "coarse_grained[:10,:]"
   ]
  },
  {
   "cell_type": "code",
   "execution_count": 151,
   "metadata": {
    "collapsed": false
   },
   "outputs": [
    {
     "data": {
      "text/plain": [
       "6.0"
      ]
     },
     "execution_count": 151,
     "metadata": {},
     "output_type": "execute_result"
    }
   ],
   "source": [
    "coarse_grained.max()"
   ]
  },
  {
   "cell_type": "code",
   "execution_count": 152,
   "metadata": {
    "collapsed": false
   },
   "outputs": [
    {
     "data": {
      "text/plain": [
       "0.0"
      ]
     },
     "execution_count": 152,
     "metadata": {},
     "output_type": "execute_result"
    }
   ],
   "source": [
    "coarse_grained.min()"
   ]
  },
  {
   "cell_type": "code",
   "execution_count": 153,
   "metadata": {
    "collapsed": false
   },
   "outputs": [
    {
     "name": "stdout",
     "output_type": "stream",
     "text": [
      "(7, 7)\n"
     ]
    }
   ],
   "source": [
    "histofun = np.zeros((bins_vert,bins_time))\n",
    "print(histofun.shape)"
   ]
  },
  {
   "cell_type": "code",
   "execution_count": 154,
   "metadata": {
    "collapsed": false
   },
   "outputs": [],
   "source": [
    "for i in range(bins_time):\n",
    "    histofun[:,i] = np.histogram(coarse_grained[:,i],bins=np.arange(bins_vert+1)-.5)[0].transpose()"
   ]
  },
  {
   "cell_type": "code",
   "execution_count": 155,
   "metadata": {
    "collapsed": false
   },
   "outputs": [
    {
     "data": {
      "text/plain": [
       "array([[  2.,   3.,   3.,   1.,   3.,   5.,   1.],\n",
       "       [  3.,   5.,  10.,   8.,  10.,  13.,   1.],\n",
       "       [ 14.,  27.,  20.,  24.,  22.,  27.,  26.],\n",
       "       [ 41.,  34.,  33.,  39.,  37.,  35.,  38.],\n",
       "       [ 38.,  42.,  46.,  39.,  41.,  37.,  47.],\n",
       "       [ 28.,  19.,  18.,  17.,  17.,  15.,  21.],\n",
       "       [ 10.,   6.,   6.,   8.,   6.,   4.,   2.]])"
      ]
     },
     "execution_count": 155,
     "metadata": {},
     "output_type": "execute_result"
    }
   ],
   "source": [
    "histofun"
   ]
  },
  {
   "cell_type": "code",
   "execution_count": 160,
   "metadata": {
    "collapsed": false
   },
   "outputs": [
    {
     "data": {
      "text/plain": [
       "[<matplotlib.text.Text at 0x1165d04e0>,\n",
       " <matplotlib.text.Text at 0x11651da20>,\n",
       " <matplotlib.text.Text at 0x1165fe9b0>,\n",
       " <matplotlib.text.Text at 0x115e22da0>,\n",
       " <matplotlib.text.Text at 0x115e2a0f0>,\n",
       " <matplotlib.text.Text at 0x115e2aa20>,\n",
       " <matplotlib.text.Text at 0x115e2d470>]"
      ]
     },
     "execution_count": 160,
     "metadata": {},
     "output_type": "execute_result"
    },
    {
     "data": {
      "image/png": "[encoded data removed]",
      "text/plain": [
       "<matplotlib.figure.Figure at 0x11659bb38>"
      ]
     },
     "metadata": {},
     "output_type": "display_data"
    }
   ],
   "source": [
    "fig = plt.figure(figsize=(8,8))\n",
    "ax = fig.add_axes([.2,.2,.7,.7])\n",
    "plt.imshow(histofun,interpolation='none',cmap='Oranges',origin='lower')\n",
    "ax.set_yticks(np.arange(len(bins))-.5)\n",
    "ax.set_yticklabels([\"{0:.2f}\".format(b-(abs_range[1]-abs_range[0])/bins_vert/2) for b in bins])\n",
    "ax.set_xticks(np.arange(bins_time))\n",
    "ax.set_xticklabels(np.arange(bins_time)+1)"
   ]
  },
  {
   "cell_type": "code",
   "execution_count": null,
   "metadata": {
    "collapsed": true
   },
   "outputs": [],
   "source": []
  }
 ],
 "metadata": {
  "kernelspec": {
   "display_name": "Python 3",
   "language": "python",
   "name": "python3"
  },
  "language_info": {
   "codemirror_mode": {
    "name": "ipython",
    "version": 3
   },
   "file_extension": ".py",
   "mimetype": "text/x-python",
   "name": "python",
   "nbconvert_exporter": "python",
   "pygments_lexer": "ipython3",
   "version": "3.5.0"
  }
 },
 "nbformat": 4,
 "nbformat_minor": 0
}
