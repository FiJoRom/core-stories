{
 "cells": [
  {
   "cell_type": "code",
   "execution_count": 6,
   "metadata": {
    "collapsed": true
   },
   "outputs": [],
   "source": [
    "# prep to load our books\n",
    "import sys, os\n",
    "\n",
    "sys.path.append('/Users/andyreagan/work/2014/09-books/gutenbergdb')\n",
    "os.environ.setdefault('DJANGO_SETTINGS_MODULE','gutenbergdb.settings')\n",
    "import django\n",
    "django.setup()\n",
    "\n",
    "from library.models import Book"
   ]
  },
  {
   "cell_type": "code",
   "execution_count": 7,
   "metadata": {
    "collapsed": true
   },
   "outputs": [],
   "source": [
    "query = Book.objects.filter(length__gte=30000,length__lte=31000,language='English')\n",
    "# load all of the timeseries into a matrix\n",
    "bigmatrix = np.ones([len(query),100])\n",
    "for i,book in zip(range(len(query)),query):\n",
    "    # print(book.title)\n",
    "    f = open('timeseries-raw/{0}.csv'.format(book.filename),'r')\n",
    "    t = np.array([float(x) for x in f.read().rstrip().split(',')])\n",
    "    bigmatrix[i,:] = t"
   ]
  },
  {
   "cell_type": "code",
   "execution_count": 8,
   "metadata": {
    "collapsed": false
   },
   "outputs": [
    {
     "data": {
      "text/plain": [
       "(145, 100)"
      ]
     },
     "execution_count": 8,
     "metadata": {},
     "output_type": "execute_result"
    }
   ],
   "source": [
    "bigmatrix.shape"
   ]
  },
  {
   "cell_type": "code",
   "execution_count": 25,
   "metadata": {
    "collapsed": false
   },
   "outputs": [
    {
     "data": {
      "image/png": "[encoded data removed]",
      "text/plain": [
       "<matplotlib.figure.Figure at 0x10eb4b4e0>"
      ]
     },
     "metadata": {},
     "output_type": "display_data"
    }
   ],
   "source": [
    "import matplotlib.pyplot as plt\n",
    "import numpy as np\n",
    "%matplotlib inline\n",
    "\n",
    "Nsteps, Nwalkers = 100, 250\n",
    "t = np.arange(Nsteps)\n",
    "\n",
    "# an (Nsteps x Nwalkers) array of random walk steps\n",
    "S1 = 0.002 + 0.01*np.random.randn(Nsteps, Nwalkers)\n",
    "S2 = 0.004 + 0.02*np.random.randn(Nsteps, Nwalkers)\n",
    "\n",
    "# an (Nsteps x Nwalkers) array of random walker positions\n",
    "X1 = S1.cumsum(axis=0)\n",
    "X2 = S2.cumsum(axis=0)\n",
    "\n",
    "\n",
    "# Nsteps length arrays empirical means and standard deviations of both\n",
    "# populations over time\n",
    "mu1 = X1.mean(axis=1)\n",
    "sigma1 = X1.std(axis=1)\n",
    "mu2 = X2.mean(axis=1)\n",
    "sigma2 = X2.std(axis=1)\n",
    "\n",
    "# plot it!\n",
    "fig, ax = plt.subplots(1)\n",
    "ax.plot(range(100),bigmatrix[0,:], lw=2, label='Book $i$', color='black')\n",
    "ax.plot(range(100),bigmatrix[1,:], lw=2, label='Book $j$', color='black')\n",
    "ax.fill_between(range(100), bigmatrix[0,:], bigmatrix[1,:], facecolor='#ff6700', alpha=0.5, label=\"Distance\") #,hatch='\\\\')\n",
    "# ax.set_title('random walkers empirical $\\mu$ and $\\pm \\sigma$ interval')\n",
    "# ax.legend(loc='upper left')\n",
    "# ax.set_xlabel('num steps')\n",
    "# ax.set_ylabel('position')\n",
    "ax.set_xticks([])\n",
    "ax.set_yticks([])\n",
    "# ax.grid()\n",
    "# plt.savefig('distance-plot.svg')"
   ]
  },
  {
   "cell_type": "code",
   "execution_count": 21,
   "metadata": {
    "collapsed": true
   },
   "outputs": [],
   "source": [
    "plt.fill_between?"
   ]
  },
  {
   "cell_type": "code",
   "execution_count": 32,
   "metadata": {
    "collapsed": false
   },
   "outputs": [],
   "source": [
    "for i in range(10):\n",
    "    fig = plt.figure(figsize=(10,1))\n",
    "    ax = fig.add_axes([0.2,0.2,0.7,0.7])\n",
    "    ax.plot(range(100),bigmatrix[i,:], lw=2, label='mean population 1', color='#ff6700')\n",
    "    plt.axis('off')\n",
    "    plt.savefig('distance-plot-{0}.svg'.format(i))\n",
    "    plt.close(fig)"
   ]
  },
  {
   "cell_type": "code",
   "execution_count": 33,
   "metadata": {
    "collapsed": true
   },
   "outputs": [],
   "source": [
    "x = np.linspace(0,np.pi*2,num=100)\n",
    "for i in range(5):\n",
    "    fig = plt.figure(figsize=(10,1))\n",
    "    ax = fig.add_axes([0.2,0.2,0.7,0.7])\n",
    "    ax.plot(x,np.sin((i+1)*x), lw=2, label='mean population 1', color='#ff6700')\n",
    "    plt.axis('off')\n",
    "    plt.savefig('sine-plot-{0}.svg'.format(i))\n",
    "    plt.close(fig)"
   ]
  },
  {
   "cell_type": "code",
   "execution_count": null,
   "metadata": {
    "collapsed": true
   },
   "outputs": [],
   "source": []
  }
 ],
 "metadata": {
  "kernelspec": {
   "display_name": "Python 3",
   "language": "python",
   "name": "python3"
  },
  "language_info": {
   "codemirror_mode": {
    "name": "ipython",
    "version": 3
   },
   "file_extension": ".py",
   "mimetype": "text/x-python",
   "name": "python",
   "nbconvert_exporter": "python",
   "pygments_lexer": "ipython3",
   "version": "3.5.0"
  }
 },
 "nbformat": 4,
 "nbformat_minor": 0
}
