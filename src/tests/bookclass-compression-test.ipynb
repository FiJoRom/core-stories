{
 "cells": [
  {
   "cell_type": "markdown",
   "metadata": {},
   "source": [
    "Mode decomposition of emotional arcs!\n",
    "----------------------------------------------\n",
    "\n",
    "This second version uses only the linear algebra version of the SVD."
   ]
  },
  {
   "cell_type": "code",
   "execution_count": 1,
   "metadata": {
    "collapsed": false
   },
   "outputs": [
    {
     "name": "stdout",
     "output_type": "stream",
     "text": [
      "loading labMT with stopVal=0.0, for 10222 words\n"
     ]
    }
   ],
   "source": [
    "from os import listdir, mkdir\n",
    "from os.path import isfile, join, isdir\n",
    "from json import loads\n",
    "from re import findall,UNICODE\n",
    "import sys\n",
    "sys.path.append(\"/Users/andyreagan/tools/python\")\n",
    "from kitchentable.dogtoys import *\n",
    "from labMTsimple.labMTsimple.speedy import LabMT\n",
    "my_LabMT = LabMT()\n",
    "from labMTsimple.labMTsimple.storyLab import *\n",
    "import numpy as np\n",
    "from database.bookclass import *\n",
    "import pickle\n",
    "\n",
    "import os\n",
    "sys.path.append('/Users/andyreagan/projects/2014/09-books/database')\n",
    "os.environ.setdefault('DJANGO_SETTINGS_MODULE','gutenbergdb.settings')\n",
    "import django\n",
    "django.setup()\n",
    "\n",
    "from library.models import *\n",
    "\n",
    "from tqdm import tqdm"
   ]
  },
  {
   "cell_type": "code",
   "execution_count": 2,
   "metadata": {
    "collapsed": false
   },
   "outputs": [
    {
     "name": "stdout",
     "output_type": "stream",
     "text": [
      "4803\n"
     ]
    }
   ],
   "source": [
    "filters = {\"min_dl\":10,\n",
    "           \"length\": [20000,100000],\n",
    "           \"P\": True,\n",
    "           \"n_points\": 200,\n",
    "           \"salad\": False,\n",
    "          }\n",
    "q = Book.objects.filter(exclude=False,length__gt=10000,length__lte=200000,\n",
    "                        downloads__gte=150,numUniqWords__gt=1000,numUniqWords__lt=18000,lang_code_id=0)\n",
    "q = Book.objects.filter(exclude=False,length__gt=filters[\"length\"][0],length__lte=filters[\"length\"][1],\n",
    "                        downloads__gte=filters[\"min_dl\"],lang_code_id=0,locc_with_P=filters[\"P\"])\n",
    "print(len(q))"
   ]
  },
  {
   "cell_type": "code",
   "execution_count": 3,
   "metadata": {
    "collapsed": false
   },
   "outputs": [
    {
     "name": "stderr",
     "output_type": "stream",
     "text": [
      "100%|██████████| 5/5 [00:24<00:00,  5.10s/it]\n",
      "100%|██████████| 5/5 [00:06<00:00,  1.28s/it]\n",
      "100%|██████████| 5/5 [00:00<00:00, 406.14it/s]\n"
     ]
    }
   ],
   "source": [
    "stop_val=1.0\n",
    "b = q[0]\n",
    "b_data = Book_raw_data(b)\n",
    "b_data.chopper_sliding(my_LabMT,num_points=200,stop_val=stop_val,randomize=filters[\"salad\"],use_cache=True)\n",
    "save_book_raw_data(b_data)\n",
    "for i in tqdm(range(5)):\n",
    "    b = q[0]\n",
    "    b_data = Book_raw_data(b)\n",
    "    b_data.chopper_sliding(my_LabMT,num_points=200,stop_val=stop_val,randomize=filters[\"salad\"],use_cache=False)\n",
    "for i in tqdm(range(5)):\n",
    "    b = q[0]\n",
    "    b_data = Book_raw_data(b)\n",
    "    b_data.chopper_sliding(my_LabMT,num_points=200,stop_val=stop_val,randomize=filters[\"salad\"],use_cache=True)\n",
    "for i in tqdm(range(5)):\n",
    "    "
   ]
  },
  {
   "cell_type": "markdown",
   "metadata": {},
   "source": [
    "# takeaway: only slightly slower to use lz4 compression, 1/2 the file sizes"
   ]
  },
  {
   "cell_type": "markdown",
   "metadata": {},
   "source": [
    "the uncompressed trial is a screenshot (Screenshot 2016-08-16 10.27.49.png)"
   ]
  },
  {
   "cell_type": "code",
   "execution_count": null,
   "metadata": {
    "collapsed": true
   },
   "outputs": [],
   "source": []
  }
 ],
 "metadata": {
  "kernelspec": {
   "display_name": "Python 3",
   "language": "python",
   "name": "python3"
  },
  "language_info": {
   "codemirror_mode": {
    "name": "ipython",
    "version": 3
   },
   "file_extension": ".py",
   "mimetype": "text/x-python",
   "name": "python",
   "nbconvert_exporter": "python",
   "pygments_lexer": "ipython3",
   "version": "3.5.0"
  }
 },
 "nbformat": 4,
 "nbformat_minor": 0
}
