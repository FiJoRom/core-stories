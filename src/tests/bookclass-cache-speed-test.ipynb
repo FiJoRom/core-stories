{
 "cells": [
  {
   "cell_type": "code",
   "execution_count": 2,
   "metadata": {
    "collapsed": false
   },
   "outputs": [],
   "source": [
    "from os import listdir\n",
    "from os.path import isfile, join\n",
    "from json import loads\n",
    "from re import findall,UNICODE\n",
    "import sys\n",
    "sys.path.append(\"/Users/andyreagan/tools/python\")\n",
    "from kitchentable.dogtoys import *\n",
    "from labMTsimple.labMTsimple.speedy import LabMT\n",
    "my_LabMT = LabMT()\n",
    "from labMTsimple.labMTsimple.storyLab import *\n",
    "import numpy as np\n",
    "from database.bookclass import Book_raw_data\n",
    "import pickle\n",
    "\n",
    "import os\n",
    "sys.path.append('/Users/andyreagan/projects/2014/09-books/database')\n",
    "os.environ.setdefault('DJANGO_SETTINGS_MODULE','gutenbergdb.settings')\n",
    "import django\n",
    "django.setup()\n",
    "\n",
    "from library.models import *\n",
    "\n",
    "from tqdm import tqdm"
   ]
  },
  {
   "cell_type": "code",
   "execution_count": 3,
   "metadata": {
    "collapsed": false
   },
   "outputs": [
    {
     "name": "stdout",
     "output_type": "stream",
     "text": [
      "754\n"
     ]
    }
   ],
   "source": [
    "q = Book.objects.filter(exclude=False,length__gt=10000,length__lte=200000,\n",
    "                        downloads__gte=150,numUniqWords__gt=1000,numUniqWords__lt=18000,lang_code_id=0)\n",
    "q = Book.objects.filter(exclude=False,length__gt=20000,length__lte=100000,\n",
    "                        downloads__gte=80,lang_code_id=0,locc_with_P=True)\n",
    "print(len(q))"
   ]
  },
  {
   "cell_type": "code",
   "execution_count": 4,
   "metadata": {
    "collapsed": false
   },
   "outputs": [
    {
     "name": "stderr",
     "output_type": "stream",
     "text": [
      "100%|██████████| 5/5 [00:00<00:00, 17.14it/s]\n",
      "100%|██████████| 5/5 [00:00<00:00, 21.20it/s]\n",
      "100%|██████████| 5/5 [00:08<00:00,  1.73s/it]\n"
     ]
    }
   ],
   "source": [
    "stop_val = 1.0\n",
    "\n",
    "# load them up using the cache\n",
    "for i in tqdm(range(5)):\n",
    "    b = q[i]\n",
    "    b_data = Book_raw_data(b)\n",
    "    a = b_data.chopper_sliding(my_LabMT,num_points=200,stop_val=stop_val,use_cache=True)\n",
    "# okay, make sure they actually had a cached version to load\n",
    "for i in tqdm(range(5)):\n",
    "    b = q[i]\n",
    "    b_data = Book_raw_data(b)\n",
    "    a = b_data.chopper_sliding(my_LabMT,num_points=200,stop_val=stop_val,use_cache=True)\n",
    "# try without the cache, explicitly\n",
    "for i in tqdm(range(5)):\n",
    "    b = q[i]\n",
    "    b_data = Book_raw_data(b)\n",
    "    a = b_data.chopper_sliding(my_LabMT,num_points=200,stop_val=stop_val,use_cache=False)"
   ]
  },
  {
   "cell_type": "code",
   "execution_count": 5,
   "metadata": {
    "collapsed": false
   },
   "outputs": [
    {
     "name": "stdout",
     "output_type": "stream",
     "text": [
      "12.470588235294118\n"
     ]
    }
   ],
   "source": [
    "# speedup was\n",
    "print(21.2/1.7)"
   ]
  },
  {
   "cell_type": "markdown",
   "metadata": {},
   "source": [
    "# takeaway: cache is a massive speedup!"
   ]
  },
  {
   "cell_type": "code",
   "execution_count": null,
   "metadata": {
    "collapsed": true
   },
   "outputs": [],
   "source": []
  }
 ],
 "metadata": {
  "kernelspec": {
   "display_name": "Python 3",
   "language": "python",
   "name": "python3"
  },
  "language_info": {
   "codemirror_mode": {
    "name": "ipython",
    "version": 3
   },
   "file_extension": ".py",
   "mimetype": "text/x-python",
   "name": "python",
   "nbconvert_exporter": "python",
   "pygments_lexer": "ipython3",
   "version": "3.5.0"
  }
 },
 "nbformat": 4,
 "nbformat_minor": 0
}
