{
 "cells": [
  {
   "cell_type": "markdown",
   "metadata": {},
   "source": [
    "let's try to classify the stories of small length\n",
    "----------------------------------------------"
   ]
  },
  {
   "cell_type": "code",
   "execution_count": 1,
   "metadata": {
    "collapsed": false
   },
   "outputs": [
    {
     "name": "stdout",
     "output_type": "stream",
     "text": [
      "loading LabMT with stopVal=0.0, for 10222 words\n"
     ]
    }
   ],
   "source": [
    "from os import listdir\n",
    "from os.path import isfile, join\n",
    "import sys\n",
    "sys.path.append(\"/Users/andyreagan/tools/python\")\n",
    "from kitchentable.dogtoys import *\n",
    "from json import loads\n",
    "from re import findall,UNICODE\n",
    "from labMTsimple.labMTsimple.speedy import LabMT\n",
    "my_LabMT = LabMT()\n",
    "from labMTsimple.labMTsimple.storyLab import *\n",
    "import numpy as np\n",
    "import matplotlib.pyplot as plt\n",
    "%matplotlib inline\n",
    "from database.bookclass import Book_raw_data\n",
    "\n",
    "import os\n",
    "sys.path.append('/Users/andyreagan/projects/2014/09-books/database')\n",
    "os.environ.setdefault('DJANGO_SETTINGS_MODULE','gutenbergdb.settings')\n",
    "import django\n",
    "django.setup()\n",
    "\n",
    "from library.models import *"
   ]
  },
  {
   "cell_type": "code",
   "execution_count": 2,
   "metadata": {
    "collapsed": true
   },
   "outputs": [],
   "source": [
    "# all our essentials\n",
    "from matplotlib import rc,rcParams\n",
    "# rc('font', family='sans-serif') \n",
    "# rc('font', serif='Helvetica Neue')\n",
    "# rc('text', usetex='false') \n",
    "\n",
    "# rc('font', family='serif')\n",
    "# rc('font', family='cmr10')\n",
    "# rc('text', usetex='true') \n",
    "\n",
    "rcParams.update({'font.size': 12})\n",
    "import matplotlib.pyplot as plt\n",
    "%matplotlib inline"
   ]
  },
  {
   "cell_type": "code",
   "execution_count": 5,
   "metadata": {
    "collapsed": true
   },
   "outputs": [],
   "source": [
    "q = Book.objects.filter(exclude=False,length__gt=10000,length__lte=200000,downloads__gte=150,numUniqWords__gt=1000,numUniqWords__lt=18000,lang_code_id=0)"
   ]
  },
  {
   "cell_type": "code",
   "execution_count": 24,
   "metadata": {
    "collapsed": false
   },
   "outputs": [
    {
     "name": "stdout",
     "output_type": "stream",
     "text": [
      "11237\n",
      "29258\n",
      "4023\n",
      "0\n",
      "4743836\n",
      "[511384, 513735, 518327, 518339, 521637, 522736, 537855, 545277, 548430, 548696, 558440, 562206, 562827, 567197, 579090, 584965, 594952, 623528, 660901, 731505, 733286, 798299, 804131, 833210, 882307, 920915, 926276, 965072, 986467, 1022704, 1031492, 1046216, 1137940, 1143458, 1186474, 1187569, 1218964, 1257259, 1280252, 1297106, 1298431, 1367402, 1414700, 1438698, 1608621, 1633422, 1670955, 2568127, 2613623, 4743836]\n"
     ]
    },
    {
     "data": {
      "image/png": "[encoded data removed]",
      "text/plain": [
       "<matplotlib.figure.Figure at 0x110a1f050>"
      ]
     },
     "metadata": {},
     "output_type": "display_data"
    },
    {
     "data": {
      "image/png": "[encoded data removed]",
      "text/plain": [
       "<matplotlib.figure.Figure at 0x112342f90>"
      ]
     },
     "metadata": {},
     "output_type": "display_data"
    }
   ],
   "source": [
    "# check if the length information is in there...\n",
    "print(Book.objects.all()[0].filename)\n",
    "print(Book.objects.all()[0].length)\n",
    "print(Book.objects.all()[0].numUniqWords)\n",
    "print(len(Book.objects.filter(length__gte=30000,length__lte=50000,language='English',exclude=False)))\n",
    "allLengths = [book.length for book in Book.objects.filter(language='English',exclude=False)]\n",
    "print(max(allLengths))\n",
    "allLengths.sort()\n",
    "# there are some huge outliers:\n",
    "print(allLengths[-50:])\n",
    "# so just look at the beginning\n",
    "# plt.hist(allLengths[:-50],normed=False,bins=50)\n",
    "fig = plt.figure()\n",
    "ax = fig.add_axes([.2,.2,.7,.7])\n",
    "ax.hist(allLengths,normed=False,bins=50)\n",
    "ax.set_xlabel('Number of words $N$')\n",
    "ax.set_ylabel('Count')\n",
    "ax.set_title(\"All number of words counts\")\n",
    "# mysavefig('unique-words.png')\n",
    "mysavefig('word-counts-all.pdf',date=True,folder=\"media/figures\")\n",
    "\n",
    "fig = plt.figure()\n",
    "ax = fig.add_axes([.2,.2,.7,.7])\n",
    "ax.hist(allLengths[:-100],normed=False,bins=50)\n",
    "ax.set_xlabel('Number of words $N$')\n",
    "ax.set_ylabel('Count')\n",
    "ax.set_title(\"Number of words counts (without 100 biggest)\")\n",
    "mysavefig('word-counts-less-top100.pdf',date=True,folder=\"media/figures\")"
   ]
  },
  {
   "cell_type": "code",
   "execution_count": 25,
   "metadata": {
    "collapsed": false
   },
   "outputs": [
    {
     "name": "stdout",
     "output_type": "stream",
     "text": [
      "11237\n",
      "29258\n",
      "4023\n",
      "0\n",
      "297005\n",
      "[31176, 31198, 31457, 31570, 32083, 32534, 32602, 32627, 32825, 33255, 33345, 33457, 33583, 33815, 34567, 34957, 35005, 35067, 35116, 35135, 35584, 35661, 36609, 36715, 36966, 36976, 37223, 37593, 37604, 37727, 39045, 40861, 42123, 44468, 44852, 45205, 45736, 47775, 47777, 48612, 48840, 55713, 56020, 59122, 62337, 69750, 73987, 101429, 125639, 297005]\n"
     ]
    },
    {
     "data": {
      "image/png": "[encoded data removed]",
      "text/plain": [
       "<matplotlib.figure.Figure at 0x11105ed10>"
      ]
     },
     "metadata": {},
     "output_type": "display_data"
    },
    {
     "data": {
      "image/png": "[encoded data removed]",
      "text/plain": [
       "<matplotlib.figure.Figure at 0x111705ad0>"
      ]
     },
     "metadata": {},
     "output_type": "display_data"
    }
   ],
   "source": [
    "# check if the length information is in there...\n",
    "print(Book.objects.all()[0].filename)\n",
    "print(Book.objects.all()[0].length)\n",
    "print(Book.objects.all()[0].numUniqWords)\n",
    "print(len(Book.objects.filter(length__gte=30000,length__lte=50000,language='English',exclude=False)))\n",
    "uniq_words = [book.numUniqWords for book in Book.objects.filter(language='English',exclude=False)]\n",
    "print(max(uniq_words))\n",
    "uniq_words.sort()\n",
    "# there are some huge outliers:\n",
    "print(uniq_words[-50:])\n",
    "\n",
    "# so just look at the beginning\n",
    "# plt.hist(allLengths[:-50],normed=False,bins=50)\n",
    "fig = plt.figure()\n",
    "ax = fig.add_axes([.2,.2,.7,.7])\n",
    "ax.hist(uniq_words,normed=False,bins=50)\n",
    "ax.set_xlabel('Unique words')\n",
    "ax.set_ylabel('Count')\n",
    "ax.set_title(\"All unique word counts\")\n",
    "mysavefig('unique-counts-all.pdf',date=True,folder=\"media/figures\")\n",
    "\n",
    "fig = plt.figure()\n",
    "ax = fig.add_axes([.2,.2,.7,.7])\n",
    "ax.hist(uniq_words[:-50],normed=False,bins=50)\n",
    "ax.set_xlabel('Unique words')\n",
    "ax.set_ylabel(\"Count\")\n",
    "ax.set_title(\"Unique word counts without the top 50\")\n",
    "mysavefig('unique-counts-less-top50.pdf',date=True,folder=\"media/figures\")"
   ]
  },
  {
   "cell_type": "code",
   "execution_count": 21,
   "metadata": {
    "collapsed": false
   },
   "outputs": [
    {
     "data": {
      "text/plain": [
       "<matplotlib.text.Text at 0x1129344d0>"
      ]
     },
     "execution_count": 21,
     "metadata": {},
     "output_type": "execute_result"
    },
    {
     "data": {
      "image/png": "[encoded data removed]",
      "text/plain": [
       "<matplotlib.figure.Figure at 0x110a88d10>"
      ]
     },
     "metadata": {},
     "output_type": "display_data"
    },
    {
     "data": {
      "image/png": "[encoded data removed]",
      "text/plain": [
       "<matplotlib.figure.Figure at 0x112d4f8d0>"
      ]
     },
     "metadata": {},
     "output_type": "display_data"
    }
   ],
   "source": [
    "fig = plt.figure(figsize=(8.5,4.2))\n",
    "ax1 = fig.add_axes([0.2,0.2,0.7,0.7])\n",
    "ax1.hist(np.log10(allLengths),normed=False,bins=50)\n",
    "heights = [100,10000,30000,50000,80000,120000,170000]\n",
    "for h in heights:\n",
    "    ax1.plot(np.log10([h,h]),[0,3000],'r')\n",
    "ax2 = fig.add_axes([0.2,0.2,0.7,0.7])\n",
    "ax2.fill_between(np.log10([30000,50000]),[3000,3000],color='r',alpha=0.5,zorder=100)\n",
    "ax1.set_xlabel('$\\log_{10}(N)$',fontsize=14)\n",
    "ax1.set_ylabel('Count',fontsize=14)\n",
    "ax1.set_title('(i am analyzing books between the red lines)')\n",
    "# mysavefig('log-distribution-book-length.svg')\n",
    "# mysavefig('log-distribution-book-length.pdf',folder=\"media/figures\")\n",
    "\n",
    "fig = plt.figure(figsize=(8.5,4.2))\n",
    "ax1 = fig.add_axes([0.2,0.2,0.7,0.7])\n",
    "ax1.hist(allLengths[:-100],normed=False,bins=50)\n",
    "heights = [100,10000,30000,50000,80000,120000,170000]\n",
    "for h in heights:\n",
    "    ax1.plot(np.log10([h,h]),[0,3000],'r')\n",
    "ax2 = fig.add_axes([0.2,0.2,0.7,0.7])\n",
    "ax2.fill_between([30000,50000],[3000,3000],color='r',alpha=0.5,zorder=100)\n",
    "ax1.set_xlabel('Word count $N$',fontsize=14)\n",
    "ax1.set_ylabel('Count',fontsize=14)\n",
    "ax1.set_title('(i am analyzing books between the red lines)')"
   ]
  }
 ],
 "metadata": {
  "kernelspec": {
   "display_name": "Python 3",
   "language": "python",
   "name": "python3"
  },
  "language_info": {
   "codemirror_mode": {
    "name": "ipython",
    "version": 3
   },
   "file_extension": ".py",
   "mimetype": "text/x-python",
   "name": "python",
   "nbconvert_exporter": "python",
   "pygments_lexer": "ipython3",
   "version": "3.5.0"
  }
 },
 "nbformat": 4,
 "nbformat_minor": 0
}
